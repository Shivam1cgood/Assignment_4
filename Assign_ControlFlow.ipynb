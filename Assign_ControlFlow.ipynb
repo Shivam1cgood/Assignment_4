{
 "cells": [
  {
   "cell_type": "code",
   "execution_count": null,
   "id": "2e2b604a-3dc2-4cf2-ba2b-7668e97a15d9",
   "metadata": {},
   "outputs": [
    {
     "name": "stdout",
     "output_type": "stream",
     "text": [
      " 2 is positive\n",
      " -3 is negative\n",
      "n should not be equal to zero\n"
     ]
    }
   ],
   "source": [
    "\"\"\"\n",
    "1. Write a Python program to check if a given number is positive or negative\n",
    "\"\"\"\n",
    "\n",
    "def check(n):\n",
    "    if n == 0:\n",
    "        print(\"n should not be equal to zero\")\n",
    "    else:   \n",
    "        if n <0:\n",
    "            print(f\" {n} is negative\")\n",
    "        else:\n",
    "            print(f\" {n} is positive\")\n",
    "\n",
    "check(2)\n",
    "check(-3)\n",
    "check(0)\n"
   ]
  },
  {
   "cell_type": "code",
   "execution_count": 4,
   "id": "45977920-0d81-4aa8-82a2-24393d18c568",
   "metadata": {},
   "outputs": [
    {
     "name": "stdin",
     "output_type": "stream",
     "text": [
      "Enter age 11\n"
     ]
    },
    {
     "name": "stdout",
     "output_type": "stream",
     "text": [
      "NOT eligible to vote\n"
     ]
    }
   ],
   "source": [
    "\"\"\"\n",
    "2. Create a program that determines if a person is eligible to vote based on their age.\n",
    "\"\"\"\n",
    "def eligibility(age):\n",
    "    if(age >= 18):\n",
    "        print(\"Eligible to vote\")\n",
    "    else:\n",
    "        print(\"NOT eligible to vote\")\n",
    "        \n",
    "age = int(input(\"Enter age\"))\n",
    "eligibility(age)\n"
   ]
  },
  {
   "cell_type": "code",
   "execution_count": 6,
   "id": "2ca2e55b-cf32-4f78-8140-c8b775c66af6",
   "metadata": {},
   "outputs": [
    {
     "name": "stdout",
     "output_type": "stream",
     "text": [
      "9\n",
      "33\n"
     ]
    }
   ],
   "source": [
    "\"\"\"\n",
    "3. Develop a program to find the maximum of two numbers using if-else statements.\n",
    "\"\"\"\n",
    "\n",
    "def maximum(a,b):\n",
    "    if a>b:\n",
    "        return a\n",
    "    else:\n",
    "        return b\n",
    "\n",
    "print(maximum(4,9))\n",
    "print(maximum(33,23))"
   ]
  },
  {
   "cell_type": "code",
   "execution_count": 5,
   "id": "cd409ecd-44e4-45bc-a33a-2455f32315a1",
   "metadata": {},
   "outputs": [
    {
     "name": "stdout",
     "output_type": "stream",
     "text": [
      "2016 is a leap year\n",
      "2017 is NOT a leap year\n",
      "2018 is NOT a leap year\n",
      "2019 is NOT a leap year\n"
     ]
    },
    {
     "data": {
      "text/plain": [
       "False"
      ]
     },
     "execution_count": 5,
     "metadata": {},
     "output_type": "execute_result"
    }
   ],
   "source": [
    "\"\"\"\n",
    "4. Write a Python script to classify a given year as a leap year or not.\n",
    "\"\"\"\n",
    "\n",
    "def is_leap_year(y):\n",
    "    if y % 4 == 0:\n",
    "        if y % 100 == 0:\n",
    "            if y%400==0:\n",
    "                print(f\"{y} is a leap year\")\n",
    "                return True\n",
    "            else:\n",
    "                print(f\"{y} is NOT a leap year\")\n",
    "                return False\n",
    "        else:\n",
    "            print(f\"{y} is a leap year\")\n",
    "            return True\n",
    "    else:\n",
    "        print(f\"{y} is NOT a leap year\")\n",
    "        return False\n",
    "\n",
    "is_leap_year(2016)\n",
    "is_leap_year(2017)\n",
    "is_leap_year(2018)\n",
    "is_leap_year(2019)\n",
    "is_leap_year(2020)"
   ]
  },
  {
   "cell_type": "code",
   "execution_count": 13,
   "id": "7b434d89-4f6b-4b4d-921a-99be097ad079",
   "metadata": {},
   "outputs": [
    {
     "name": "stdout",
     "output_type": "stream",
     "text": [
      "a is a vowel\n",
      "b is a consonant\n",
      "E is a vowel\n",
      "F is a consonant\n",
      "7 is not a alphabet\n",
      "* is not a alphabet\n"
     ]
    }
   ],
   "source": [
    "\"\"\"\n",
    "5. Create a program that checks whether a character is a vowel or a consonant.\n",
    "\"\"\"\n",
    "\n",
    "def vowel_or_consonant(c):\n",
    "    v = ['a', 'e', 'i', 'o', 'u', 'A', 'E', 'I', 'O', 'U']\n",
    "    if c.isalpha():\n",
    "        if c in v:\n",
    "            print(f\"{c} is a vowel\")\n",
    "            \n",
    "        else:\n",
    "            print(f\"{c} is a consonant\")\n",
    "    else:\n",
    "        print(f\"{c} is not a alphabet\")\n",
    "        \n",
    "vowel_or_consonant('a')\n",
    "vowel_or_consonant('b')\n",
    "vowel_or_consonant('E')\n",
    "vowel_or_consonant('F')\n",
    "vowel_or_consonant('7')\n",
    "vowel_or_consonant('*')"
   ]
  },
  {
   "cell_type": "code",
   "execution_count": 8,
   "id": "5445f553-044e-44b7-9c15-3fa72f527573",
   "metadata": {},
   "outputs": [
    {
     "name": "stdout",
     "output_type": "stream",
     "text": [
      "3 is odd\n",
      "324 is even\n",
      "235 is odd\n",
      "54 is even\n"
     ]
    }
   ],
   "source": [
    "\"\"\"\n",
    "6. Implement a program to determine whether a given number is even or odd.\n",
    "\"\"\"\n",
    "def even_odd(n):\n",
    "    if n % 2== 0:\n",
    "        print(f\"{n} is even\")\n",
    "    else:\n",
    "        print(f\"{n} is odd\")\n",
    "\n",
    "even_odd(3)\n",
    "even_odd(324)\n",
    "even_odd(235)\n",
    "even_odd(54)"
   ]
  },
  {
   "cell_type": "code",
   "execution_count": 9,
   "id": "7c834ef4-1509-4ac5-964c-94700e0f2126",
   "metadata": {},
   "outputs": [
    {
     "name": "stdout",
     "output_type": "stream",
     "text": [
      "4\n",
      "24\n",
      "234\n",
      "566\n"
     ]
    }
   ],
   "source": [
    "\"\"\"\n",
    "7. Write a Python function to calculate the absolute value of a number without using the `abs()` function.\n",
    "\"\"\"\n",
    "\n",
    "def absolute(n):\n",
    "    if n > 0:\n",
    "        return n\n",
    "    else :\n",
    "        return -n;\n",
    "    \n",
    "    \n",
    "print(absolute(4))\n",
    "print(absolute(24))\n",
    "print(absolute(-234))\n",
    "print(absolute(-566))"
   ]
  },
  {
   "cell_type": "code",
   "execution_count": 6,
   "id": "b8592123-429a-4a14-b880-e1d98f7e2357",
   "metadata": {},
   "outputs": [
    {
     "name": "stdout",
     "output_type": "stream",
     "text": [
      "6\n",
      "64\n",
      "5848\n",
      "548\n"
     ]
    }
   ],
   "source": [
    "\"\"\"\n",
    "8. Develop a program that determines the largest of three given numbers using if-else statements.\n",
    "\"\"\"\n",
    "\n",
    "def largest(a,b,c):\n",
    "    if a >b and a >c:\n",
    "        return a\n",
    "    elif b>a and b > c:\n",
    "        return b\n",
    "    else:\n",
    "        return c\n",
    "        \n",
    "print(largest(4,5,6))\n",
    "print(largest(34,25,64))\n",
    "print(largest(54,5848,55))\n",
    "print(largest(48,548,45))"
   ]
  },
  {
   "cell_type": "code",
   "execution_count": 16,
   "id": "11ff45ee-3fd6-4289-b483-8a54b5a2ee77",
   "metadata": {},
   "outputs": [
    {
     "name": "stdout",
     "output_type": "stream",
     "text": [
      " string is NOT  a palindrome\n",
      " asdsa is a palindrome\n"
     ]
    },
    {
     "data": {
      "text/plain": [
       "True"
      ]
     },
     "execution_count": 16,
     "metadata": {},
     "output_type": "execute_result"
    }
   ],
   "source": [
    "\"\"\"\n",
    "9. Create a program that checks if a given string is a palindrome.\n",
    "\"\"\"\n",
    "\n",
    "\n",
    "def is_palindrome(string):\n",
    "    #Making case in-sensititve\n",
    "    s = string.lower()\n",
    "    if s == s[::-1]:\n",
    "        print(f\" {string} is a palindrome\")\n",
    "        return True\n",
    "    else:\n",
    "        print(f\" {string} is NOT  a palindrome\")\n",
    "        return False;\n",
    "    \n",
    "\n",
    "is_palindrome(\"String\")\n",
    "is_palindrome(\"ASDsa\")"
   ]
  },
  {
   "cell_type": "code",
   "execution_count": 4,
   "id": "c5da4364-8db3-4cc3-99a4-9a775e3ee6f6",
   "metadata": {},
   "outputs": [
    {
     "name": "stdout",
     "output_type": "stream",
     "text": [
      "Grade : 'A' \n",
      "Grade : 'B'\n",
      "Grade : 'D' \n",
      "Grade : 'D' \n",
      "Grade : 'F' \n"
     ]
    }
   ],
   "source": [
    "\"\"\"\n",
    "10. Write a Python program to calculate the grade based on a student's score.\n",
    "\"\"\"\n",
    "\n",
    "def grade(marks):\n",
    "    if marks > 90:\n",
    "        print(\"Grade : 'A' \")\n",
    "    elif marks <=90 and marks > 80:\n",
    "        print(\"Grade : 'B'\")\n",
    "    elif marks <= 80 and marks > 70:\n",
    "        print(\"Grade : 'C' \")\n",
    "    elif marks <=70 and marks > 60:\n",
    "        print(\"Grade : 'D' \")\n",
    "    elif marks <=60 and marks > 50:\n",
    "        print(\"Grade : 'E' \")\n",
    "    else :\n",
    "        print(\"Grade : 'F' \")\n",
    "    \n",
    "grade(92)\n",
    "grade(88)\n",
    "grade(70)\n",
    "grade(66)\n",
    "grade(43)"
   ]
  },
  {
   "cell_type": "code",
   "execution_count": 1,
   "id": "125caa9e-c5c7-4ca7-8a35-b9544b99084f",
   "metadata": {},
   "outputs": [
    {
     "name": "stdout",
     "output_type": "stream",
     "text": [
      "5\n",
      "88\n",
      "78\n",
      "67\n"
     ]
    }
   ],
   "source": [
    "\"\"\"\n",
    "11. Write a program to find the largest among three numbers using nested if-else statements.\n",
    "\"\"\"\n",
    "\n",
    "def largest_num(a,b,c):\n",
    "    if a> b:\n",
    "        if a> c:\n",
    "            return a\n",
    "        else:\n",
    "            return c\n",
    "    else:\n",
    "        if b>c:\n",
    "            return b\n",
    "        else:\n",
    "            return c\n",
    "\n",
    "        \n",
    "print(largest_num(4,2,5))\n",
    "print(largest_num(45,58,88))\n",
    "print(largest_num(78,55,45))\n",
    "print(largest_num(4,25,67))\n",
    "     \n",
    "            \n",
    "            \n"
   ]
  },
  {
   "cell_type": "code",
   "execution_count": 4,
   "id": "6d8ad716-f974-4120-8eb4-1b392a017b61",
   "metadata": {},
   "outputs": [
    {
     "name": "stdout",
     "output_type": "stream",
     "text": [
      "Isosceles triangle\n",
      "Equilateral triangle\n",
      "Scalene triangle\n",
      "given angles do not form a traingle\n"
     ]
    }
   ],
   "source": [
    "\"\"\"\n",
    "12. Implement a program to determine if a triangle is equilateral, isosceles, or scalene.\n",
    "\"\"\"\n",
    "\n",
    "# a,b,c are the angles of the triangle\n",
    "def triangle_type(a,b,c): \n",
    "    if a+b+c == 180:\n",
    "        if a == b and b == c:\n",
    "            print(\"Equilateral triangle\")\n",
    "        elif a != b and b!= c and a!=c:\n",
    "            print(\"Scalene triangle\")\n",
    "        else:\n",
    "            print(\"Isosceles triangle\")\n",
    "    else:\n",
    "        print(\"given angles do not form a traingle\")\n",
    "        \n",
    "triangle_type(30,30,120)\n",
    "triangle_type(60,60,60)\n",
    "triangle_type(60,70,50)\n",
    "\n",
    "triangle_type(30,40,50)   "
   ]
  },
  {
   "cell_type": "code",
   "execution_count": 11,
   "id": "ee2a61a4-55ff-4534-b20b-89a67a62ca60",
   "metadata": {},
   "outputs": [
    {
     "name": "stdout",
     "output_type": "stream",
     "text": [
      "2016 is Leap year but NOT a century year\n",
      "2000 is leap year and century year\n",
      "2012 is Leap year but NOT a century year\n",
      "2015 is Neither a leap year nor a century year\n",
      "2010 is Neither a leap year nor a century year\n",
      "1900 is Not a leap year but Century year\n"
     ]
    }
   ],
   "source": [
    "\n",
    "\"\"\"\n",
    "13. Develop a program that checks if a year is a leap year and also if it is a century year.\n",
    "\"\"\"\n",
    "def leap_and_century(year):\n",
    "    if year%4 == 0:\n",
    "        if year%100 == 0:\n",
    "            if(year %400 == 0):\n",
    "                print(f\"{year} is leap year and century year\")\n",
    "            else:\n",
    "                print(f\"{year} is Not a leap year but Century year\")\n",
    "        else:\n",
    "            print(f\"{year} is Leap year but NOT a century year\")\n",
    "    else:\n",
    "        if year %100 == 0:\n",
    "            print(f\"{year} is Not a leap year but a Century year\")\n",
    "        else:\n",
    "            print(f\"{year} is Neither a leap year nor a century year\")\n",
    "        \n",
    "\n",
    "        \n",
    "leap_and_century(2016)\n",
    "leap_and_century(2000)\n",
    "leap_and_century(2012)\n",
    "leap_and_century(2015)\n",
    "leap_and_century(2010)\n",
    "leap_and_century(1900)"
   ]
  },
  {
   "cell_type": "code",
   "execution_count": 13,
   "id": "a25d3ab0-fad9-4d78-b5ff-a51065a2bdbb",
   "metadata": {},
   "outputs": [
    {
     "name": "stdout",
     "output_type": "stream",
     "text": [
      "-4 is negative\n",
      "34 is positive\n",
      "0 is zero\n"
     ]
    }
   ],
   "source": [
    "\"\"\"\n",
    "14. Write a Python script to determine if a number is positive, negative, or zero.\n",
    "\"\"\"\n",
    "def number_type(n):\n",
    "    if n >0:\n",
    "        print(f\"{n} is positive\")\n",
    "    elif n <0:\n",
    "        print(f\"{n} is negative\")\n",
    "    else:\n",
    "        print(f\"{n} is zero\")\n",
    "\n",
    "\n",
    "number_type(-4)\n",
    "number_type(34)\n",
    "number_type(0)"
   ]
  },
  {
   "cell_type": "code",
   "execution_count": 16,
   "id": "bde352df-ecd6-432c-b04c-66b060419cd9",
   "metadata": {},
   "outputs": [
    {
     "name": "stdout",
     "output_type": "stream",
     "text": [
      "person is not a teenager\n",
      "person is not a teenager\n",
      "persom is a teenager\n"
     ]
    }
   ],
   "source": [
    "\"\"\"\n",
    "15. Create a program to check if a person is a teenager (between 13 and 19 years old).\n",
    "\"\"\"\n",
    "\n",
    "def is_teenager(age):\n",
    "    if age >= 13 and age <= 19:\n",
    "        print(\"persom is a teenager\")\n",
    "    else:\n",
    "        print(\"person is not a teenager\")\n",
    "        \n",
    "is_teenager(23)\n",
    "is_teenager(11)\n",
    "is_teenager(15)"
   ]
  },
  {
   "cell_type": "code",
   "execution_count": 18,
   "id": "020af295-e69d-4f7c-8468-db68c68c1a12",
   "metadata": {},
   "outputs": [
    {
     "name": "stdout",
     "output_type": "stream",
     "text": [
      "32 is acute angle\n",
      "123 is obtuse angle\n",
      "90 is right angle\n"
     ]
    }
   ],
   "source": [
    "\"\"\"\n",
    "16. Develop a program that determines the type of angle based on its measure (acute, obtuse, or right).\n",
    "\"\"\"\n",
    "\n",
    "def angle_type(angle):\n",
    "    if angle >90:\n",
    "        print(f\"{angle} is obtuse angle\")\n",
    "    elif angle <90:\n",
    "        print(f\"{angle} is acute angle\")\n",
    "    else:\n",
    "        print(f\"{angle} is right angle\")\n",
    "        \n",
    "angle_type(32)\n",
    "angle_type(123)\n",
    "angle_type(90)"
   ]
  },
  {
   "cell_type": "code",
   "execution_count": 29,
   "id": "275924c8-b7da-4273-aee8-212d0a45428c",
   "metadata": {},
   "outputs": [
    {
     "name": "stdout",
     "output_type": "stream",
     "text": [
      "Roots of the equation are -1.0 and -1.0\n",
      "Roots of the equation are -0.7362373841740267 and -2.263762615825973\n",
      "Roots of the equation are -0.25 and -1.0\n",
      "No roots \n",
      "No roots \n"
     ]
    }
   ],
   "source": [
    "\"\"\"\n",
    "17. Write a Python program to calculate the roots of a quadratic equation.\n",
    "\"\"\"\n",
    "import math\n",
    "def roots_of_quad(a,b,c):\n",
    "    d = b**2-4*a*c\n",
    "    \n",
    "    if d<0:\n",
    "        print(\"No roots \")\n",
    "    else:\n",
    "        x1 = (-b+math.sqrt(d))/(2*a)\n",
    "        x2 = (-b-math.sqrt(d))/(2*a)\n",
    "        print(f\"Roots of the equation are {x1} and {x2}\")\n",
    "        \n",
    "        \n",
    "roots_of_quad(2,4,2)\n",
    "roots_of_quad(3,9,5)\n",
    "roots_of_quad(8,10,2)\n",
    "roots_of_quad(5,2,4)\n",
    "roots_of_quad(6,7,5)"
   ]
  },
  {
   "cell_type": "code",
   "execution_count": 36,
   "id": "fd12902b-728a-44cd-b73e-57eb198432c0",
   "metadata": {},
   "outputs": [
    {
     "name": "stdin",
     "output_type": "stream",
     "text": [
      "Enter a number 23\n"
     ]
    },
    {
     "name": "stdout",
     "output_type": "stream",
     "text": [
      "Tuesday\n"
     ]
    }
   ],
   "source": [
    "\"\"\"\n",
    "18. Implement a program to determine the day of the week based on a user-provided number (1 for Monday, 2\n",
    "for Tuesday, etc.).\n",
    "\"\"\"\n",
    "\n",
    "def day(num):\n",
    "    if (num-1)%7 == 0:\n",
    "        print(\"Monday\")\n",
    "    elif (num-1)%7 == 1:\n",
    "        print(\"Tuesday\")\n",
    "    elif (num-1)%7 == 2:\n",
    "        print(\"Wednesday\")\n",
    "    elif (num-1)%7 == 3:\n",
    "        print(\"Thursday\")\n",
    "    elif (num-1)%7 == 4:\n",
    "        print(\"Friday\")\n",
    "    elif (num-1)%7 == 5:\n",
    "        print(\"Saturday\")\n",
    "    else :\n",
    "        print(\"Sunday\")\n",
    "    \n",
    "    \n",
    "    \n",
    "d = int(input(\"Enter a number\"))\n",
    "day(d)"
   ]
  },
  {
   "cell_type": "code",
   "execution_count": 35,
   "id": "1fc94d66-e953-42ea-9f07-37644fe1249e",
   "metadata": {},
   "outputs": [
    {
     "name": "stdout",
     "output_type": "stream",
     "text": [
      "2000 is leap year and also divisible by 400\n",
      "2016 is Leap year but NOT divisible by 400\n",
      "2014 is Neither a leap year nor divisible by 400\n",
      "1800 is Neither a leap year nor divisible by 400\n"
     ]
    }
   ],
   "source": [
    "\"\"\"\n",
    "19. Create a program that determines if a year is a leap year and also if it is evenly divisible by 400.\n",
    "\"\"\"\n",
    "\n",
    "\n",
    "def leap_and_400(year):\n",
    "    if year%4 == 0:\n",
    "        if year%100 == 0:\n",
    "            if(year %400 == 0):\n",
    "                print(f\"{year} is leap year and also divisible by 400\")\n",
    "            else:\n",
    "                print(f\"{year} is Neither a leap year nor divisible by 400\")\n",
    "        else:\n",
    "            print(f\"{year} is Leap year but NOT divisible by 400\")\n",
    "    else:\n",
    "        if year %400 == 0:\n",
    "            print(f\"{year} is Not a leap year but divisible by 400\")\n",
    "        else:\n",
    "            print(f\"{year} is Neither a leap year nor divisible by 400\")\n",
    "\n",
    "            \n",
    "leap_and_400(2000)\n",
    "leap_and_400(2016)\n",
    "leap_and_400(2014)\n",
    "leap_and_400(1800)"
   ]
  },
  {
   "cell_type": "code",
   "execution_count": 37,
   "id": "46afdc21-e3a6-48ad-bd9b-1a51d9e8b033",
   "metadata": {},
   "outputs": [
    {
     "name": "stdout",
     "output_type": "stream",
     "text": [
      "True\n",
      "False\n",
      "False\n"
     ]
    }
   ],
   "source": [
    "\"\"\"\n",
    "20. Develop a program that checks if a given number is prime or not using nested if-else statements.\n",
    "\"\"\"\n",
    "def check(n):\n",
    "    for i in range(2,n//2 +1):\n",
    "        if(n%i ) == 0:\n",
    "            return False\n",
    "    return True\n",
    "\n",
    "def is_prime(n):\n",
    "    if n<2:\n",
    "        return False\n",
    "    else:\n",
    "        return check(n)\n",
    "    \n",
    "print(is_prime(23))\n",
    "print(is_prime(1))\n",
    "print(is_prime(34))\n"
   ]
  },
  {
   "cell_type": "code",
   "execution_count": 2,
   "id": "2a56bd98-65ab-4c23-852a-c049ae157df6",
   "metadata": {},
   "outputs": [
    {
     "name": "stdout",
     "output_type": "stream",
     "text": [
      "Grade : 'A'\n",
      "Grade : 'C'\n",
      "Grade : 'F'\n",
      "Grade : 'B'\n",
      "Grade : 'D'\n"
     ]
    }
   ],
   "source": [
    "\"\"\"\n",
    "21. Write a Python program to assign grades based on different ranges of scores using elif statements.\n",
    "\"\"\"\n",
    "\n",
    "def grade(score):\n",
    "    if score >90:\n",
    "        print(\"Grade : 'A'\")\n",
    "    elif score <=90 and score >80:\n",
    "        print(\"Grade : 'B'\")\n",
    "    elif score <=80 and score >70:\n",
    "        print(\"Grade : 'C'\")\n",
    "              \n",
    "    elif score <=70 and score >60:\n",
    "        print(\"Grade : 'D'\")\n",
    "              \n",
    "    elif score <= 60 and score >50:\n",
    "        print(\"Grade : 'E'\")\n",
    "              \n",
    "    else:\n",
    "        print(\"Grade : 'F'\")\n",
    "        \n",
    "grade(93)\n",
    "grade(76)\n",
    "grade(34)\n",
    "grade(88)\n",
    "grade(65)"
   ]
  },
  {
   "cell_type": "code",
   "execution_count": 4,
   "id": "bf8d64f3-802d-4066-886c-ad4c66d0fe56",
   "metadata": {},
   "outputs": [
    {
     "name": "stdout",
     "output_type": "stream",
     "text": [
      "Given angles don't form a triangle\n",
      "Right angled triangle\n",
      "Acute triangle\n",
      "Obtuse triangle\n"
     ]
    }
   ],
   "source": [
    "\"\"\"\n",
    "22. Implement a program to determine the type of a triangle based on its angles.\n",
    "\"\"\"\n",
    "\n",
    "def tri_type(a,b,c):\n",
    "    if(a+b+c) != 180:\n",
    "        print(\"Given angles don't form a triangle\")\n",
    "    elif a== 90 or b == 90 or c == 90:\n",
    "        print(\"Right angled triangle\")\n",
    "    elif a >90 or b >90 or c>90:\n",
    "        print(\"Obtuse triangle\")\n",
    "    else:\n",
    "        print(\"Acute triangle\")\n",
    "        \n",
    "tri_type(60,76,54)\n",
    "tri_type(60,90,30)\n",
    "tri_type(50,60,70)\n",
    "tri_type(100,30,50)"
   ]
  },
  {
   "cell_type": "code",
   "execution_count": 1,
   "id": "027cc6f4-84a3-491d-b327-f7014f6e1034",
   "metadata": {},
   "outputs": [
    {
     "name": "stdout",
     "output_type": "stream",
     "text": [
      "Obese\n",
      "Underweight\n",
      "Overweight\n",
      "Normal\n",
      "Obese\n"
     ]
    }
   ],
   "source": [
    "\"\"\"\n",
    "23. Develop a program to categorize a given person's BMI into underweight, normal, overweight, or obese using\n",
    "elif statements.\n",
    "\"\"\"\n",
    "\n",
    "def category(bmi):\n",
    "    if bmi <18.5:\n",
    "        return 'Underweight'\n",
    "    elif bmi>=18.5 and bmi <25:\n",
    "        return \"Normal\"\n",
    "    elif bmi >=25 and bmi <30:\n",
    "        return \"Overweight\"\n",
    "    else:\n",
    "        return \"Obese\"\n",
    "    \n",
    "\n",
    "print(category(55))\n",
    "print(category(14))\n",
    "print(category(26))\n",
    "print(category(20))\n",
    "print(category(30))"
   ]
  },
  {
   "cell_type": "code",
   "execution_count": 2,
   "id": "640cdf74-c4c9-4d09-bb9f-816f9a7c5b70",
   "metadata": {},
   "outputs": [
    {
     "name": "stdout",
     "output_type": "stream",
     "text": [
      "positive\n",
      "negative\n",
      "positive\n",
      "zero\n"
     ]
    }
   ],
   "source": [
    "\"\"\"\n",
    "24. Create a program that determines whether a given number is positive, negative, or zero using elif\n",
    "statements.\n",
    "\"\"\"\n",
    "\n",
    "def num_type(n):\n",
    "    if n>0:\n",
    "        return \"positive\"\n",
    "    elif n<0 :\n",
    "        return \"negative\"\n",
    "    else:\n",
    "        return \"zero\"\n",
    "    \n",
    "print(num_type(24))\n",
    "print(num_type(-24))\n",
    "print(num_type(88))\n",
    "print(num_type(0))"
   ]
  },
  {
   "cell_type": "code",
   "execution_count": 3,
   "id": "61d5f1da-c1b3-405a-88e0-a5ff4052299e",
   "metadata": {},
   "outputs": [
    {
     "name": "stdout",
     "output_type": "stream",
     "text": [
      "lowercase\n",
      "uppercase\n",
      "lowercase\n",
      "special character\n",
      "special character\n"
     ]
    }
   ],
   "source": [
    "\"\"\"\n",
    "25. Write a Python script to determine the type of a character (uppercase, lowercase, or special) using elif\n",
    "statements.\n",
    "\n",
    "\"\"\"\n",
    "\n",
    "def char_type(c):\n",
    "    if c.islower():\n",
    "        return \"lowercase\"\n",
    "    elif c.isupper():\n",
    "        return \"uppercase\"\n",
    "    else:\n",
    "        return \"special character\"\n",
    "    \n",
    "print(char_type('d'))\n",
    "print(char_type('A'))\n",
    "print(char_type('e'))\n",
    "print(char_type('$'))\n",
    "print(char_type(')'))"
   ]
  },
  {
   "cell_type": "code",
   "execution_count": 9,
   "id": "bf431f35-0238-43fc-bf9f-aff1beccdfb3",
   "metadata": {},
   "outputs": [
    {
     "name": "stdout",
     "output_type": "stream",
     "text": [
      "2107.8\n",
      "514.9\n",
      "331.74\n",
      "876.06\n"
     ]
    }
   ],
   "source": [
    "\"\"\"\n",
    "26. Implement a program to calculate the discounted price based on different purchase amounts using elif\n",
    "statements.\n",
    "\"\"\"\n",
    "\n",
    "def discounted_price(purchase_amount):\n",
    "   \n",
    "    if purchase_amount >=1000:\n",
    "        dis_perc = 10\n",
    "    elif purchase_amount >= 700:\n",
    "        dis_perc = 7\n",
    "    elif purchase_amount >=500:\n",
    "        dis_perc = 5\n",
    "    else :\n",
    "        dis_perc = 3\n",
    "    \n",
    "    discount = (dis_perc/100)*purchase_amount\n",
    "    dis_price = purchase_amount- discount\n",
    "    return dis_price\n",
    "\n",
    "\n",
    "print(discounted_price(2342))\n",
    "print(discounted_price(542))\n",
    "print(discounted_price(342))\n",
    "print(discounted_price(942))"
   ]
  },
  {
   "cell_type": "code",
   "execution_count": 10,
   "id": "2ddc2310-61df-46d4-a6a6-9ce8ec22a99e",
   "metadata": {},
   "outputs": [
    {
     "name": "stdout",
     "output_type": "stream",
     "text": [
      "1170\n",
      "23330\n",
      "21.0\n",
      "86\n",
      "2510\n"
     ]
    }
   ],
   "source": [
    "\"\"\"\n",
    "27. Develop a program to calculate the electricity bill based on different consumption slabs using elif\n",
    "statements\n",
    "\"\"\"\n",
    "\n",
    "def electric_bill(units):\n",
    "    fixed_charge = 10\n",
    "    \n",
    "    if units <=50:\n",
    "        cost_per_unit = 0.5\n",
    "    elif units <= 100:\n",
    "        cost_per_unit = 1\n",
    "    elif units <=200:\n",
    "        cost_per_unit = 2\n",
    "    elif units <= 1000:\n",
    "        cost_per_unit = 5\n",
    "    else :\n",
    "        cost_per_unit = 10\n",
    "    \n",
    "    e_bill = fixed_charge + cost_per_unit* units\n",
    "    return e_bill\n",
    "\n",
    "print(electric_bill(232))\n",
    "print(electric_bill(2332))\n",
    "print(electric_bill(22))\n",
    "print(electric_bill(76))\n",
    "print(electric_bill(500))"
   ]
  },
  {
   "cell_type": "code",
   "execution_count": 13,
   "id": "fade1d90-c66e-47b3-be62-cbaeb7d4c119",
   "metadata": {},
   "outputs": [
    {
     "name": "stdout",
     "output_type": "stream",
     "text": [
      "Square\n",
      "Rectangle\n",
      "Rhombus\n",
      "Parallelogram\n",
      "simple quadrilateral\n",
      "Given angles do not form a quadrilateral\n"
     ]
    }
   ],
   "source": [
    "\"\"\"\n",
    "28. Create a program to determine the type of quadrilateral based on its angles and sides using elif\n",
    "statements.\n",
    "\"\"\"\n",
    "\n",
    "def quad_type(s1,s2,s3,s4,a1,a2,a3,a4):\n",
    "    if a1+a2+a3+a4 != 360:\n",
    "        return \"Given angles do not form a quadrilateral\"\n",
    "    elif a1 == a2 == a3 == a4:\n",
    "        if s1 == s2 == s3 == s4:\n",
    "            return \"Square\"\n",
    "        else :\n",
    "            return \"Rectangle\"\n",
    "    elif a1 == a3 and a2 == a4:\n",
    "        if s1 == s2 == s3 == s4:\n",
    "            return \"Rhombus\"\n",
    "        else:\n",
    "            return \"Parallelogram\"\n",
    "    else:\n",
    "        return \"simple quadrilateral\"\n",
    "    \n",
    "print(quad_type(30,30,30,30,90,90,90,90))\n",
    "print(quad_type(30,60,30,60,90,90,90,90))\n",
    "print(quad_type(30,30,30,30,40,140,40,140))\n",
    "print(quad_type(30,60,30,60,40,140,40,140))\n",
    "print(quad_type(80,30,90,50,150,90,50,70))\n",
    "print(quad_type(80,30,90,50,30,80,90,70))"
   ]
  },
  {
   "cell_type": "code",
   "execution_count": 14,
   "id": "e56a2deb-ae7e-43d5-aa1c-10ebc4e4422c",
   "metadata": {},
   "outputs": [
    {
     "name": "stdout",
     "output_type": "stream",
     "text": [
      "Winter\n",
      "Spring\n",
      "Summer\n",
      "Monsoon\n",
      "Invalid month\n"
     ]
    }
   ],
   "source": [
    "\"\"\"\n",
    "29. Write a Python script to determine the season based on a user-provided month using elif statements.\n",
    "\n",
    "\"\"\"\n",
    "# month to be taken as number\n",
    "def season(month):\n",
    "    if month in [12,1,2]:\n",
    "        return \"Winter\"\n",
    "    elif month in [3,4,5]:\n",
    "        return \"Spring\"\n",
    "    elif month in [6,7,8]:\n",
    "        return \"Summer\"\n",
    "    elif month in [9,10,11]:\n",
    "        return \"Monsoon\"\n",
    "    else:\n",
    "        return \"Invalid month\"\n",
    "    \n",
    "print(season(2))\n",
    "print(season(5))\n",
    "print(season(8))\n",
    "print(season(9))\n",
    "print(season(14))"
   ]
  },
  {
   "cell_type": "code",
   "execution_count": 17,
   "id": "3a6aa16f-61f5-40c0-8c55-34215a2c25f9",
   "metadata": {},
   "outputs": [
    {
     "name": "stdout",
     "output_type": "stream",
     "text": [
      "Leap year and month has 31 days\n",
      "Leap year and month has 30 days\n",
      "Not a Leap year and month has 31 days\n",
      "Leap year and month has 31 days\n",
      "Not a Leap year and month has 31 days\n"
     ]
    }
   ],
   "source": [
    "\"\"\"\n",
    "30. Implement a program to determine the type of a year (leap or common) and month (30 or 31 days) using\n",
    "elif statements.\n",
    "\"\"\"\n",
    "\n",
    "def year_and_month_type(year,month):\n",
    "    if year %4 == 0:\n",
    "        if year%100 == 0:\n",
    "            if year % 400 == 0:\n",
    "                leap = True\n",
    "            else:\n",
    "                leap = False\n",
    "        else:\n",
    "            leap = True;\n",
    "    else:\n",
    "        leap = False;\n",
    "    \n",
    "    if month in [1,3,5,7,8,10,12]:\n",
    "        days = 31\n",
    "    else:\n",
    "        days = 30\n",
    "    \n",
    "    if leap and days == 31:\n",
    "        return \"Leap year and month has 31 days\"\n",
    "    elif leap and days == 30:\n",
    "        return \"Leap year and month has 30 days\"\n",
    "    elif not leap and days == 31:\n",
    "        return \"Not a Leap year and month has 31 days\"\n",
    "    else:\n",
    "        return \"Not a Leap year and month has 30 days\"\n",
    "    \n",
    "    \n",
    "print(year_and_month_type(2000,5))\n",
    "print(year_and_month_type(2000,6))\n",
    "print(year_and_month_type(2003,5))\n",
    "print(year_and_month_type(2004,5))\n",
    "print(year_and_month_type(2006,8))\n",
    "    "
   ]
  },
  {
   "cell_type": "code",
   "execution_count": 4,
   "id": "ab428837-d5b4-484b-af78-789c87b35b6a",
   "metadata": {},
   "outputs": [
    {
     "name": "stdout",
     "output_type": "stream",
     "text": [
      "positive\n",
      "negative\n",
      "Zero\n"
     ]
    }
   ],
   "source": [
    "\"\"\"\n",
    "1. Write a Python program that checks if a given number is positive, negative, or zero.\n",
    "\"\"\"\n",
    "\n",
    "def number_type(n):\n",
    "    \n",
    "    if n>0:\n",
    "        return \"positive\"\n",
    "    elif n<0:\n",
    "        return \"negative\"\n",
    "    else:\n",
    "        return \"Zero\"\n",
    "    \n",
    "print(number_type(42))\n",
    "print(number_type(-24))\n",
    "print(number_type(0))\n"
   ]
  },
  {
   "cell_type": "code",
   "execution_count": 5,
   "id": "a2314443-ea18-46e4-82cf-8151b7a3f026",
   "metadata": {},
   "outputs": [
    {
     "name": "stdout",
     "output_type": "stream",
     "text": [
      "Eligible to vote\n",
      "Eligible to vote\n",
      "Not eligible to vote\n"
     ]
    }
   ],
   "source": [
    "\"\"\"\n",
    "2. Create a program to determine if a person is eligible to vote based on their age.\n",
    "\"\"\"\n",
    "\n",
    "def vote_eligibility(age):\n",
    "    if(age>=18):\n",
    "        return \"Eligible to vote\"\n",
    "    else:\n",
    "        return \"Not eligible to vote\"\n",
    "    \n",
    "print(vote_eligibility(23))\n",
    "print(vote_eligibility(18))\n",
    "print(vote_eligibility(13))"
   ]
  },
  {
   "cell_type": "code",
   "execution_count": 6,
   "id": "689b34f9-b26f-436b-99e9-3630df8e3215",
   "metadata": {},
   "outputs": [
    {
     "name": "stdout",
     "output_type": "stream",
     "text": [
      "4\n",
      "12\n",
      "23\n",
      "-2\n"
     ]
    }
   ],
   "source": [
    "\"\"\"\n",
    "3. Write a program to find the maximum of two given numbers using conditional statements.\n",
    "\"\"\"\n",
    "\n",
    "def maximum(a,b):\n",
    "    if a>b:\n",
    "        return a\n",
    "    else:\n",
    "        return b\n",
    "    \n",
    "print(maximum(2,4))\n",
    "print(maximum(12,4))\n",
    "print(maximum(23,-4))\n",
    "print(maximum(-2,-4))"
   ]
  },
  {
   "cell_type": "code",
   "execution_count": 8,
   "id": "781ea3d6-5e20-4e7c-bffa-a1f6428ff8d5",
   "metadata": {},
   "outputs": [
    {
     "name": "stdout",
     "output_type": "stream",
     "text": [
      "Grade : 'F' \n",
      "Grade : 'B'\n",
      "Grade : 'A' \n",
      "Grade : 'C' \n",
      "Grade : 'D' \n",
      "Grade : 'E' \n"
     ]
    }
   ],
   "source": [
    "\"\"\"\n",
    "4. Develop a program that calculates the grade of a student based on their exam score.\n",
    "\n",
    "\"\"\"\n",
    "\n",
    "def grade(marks):\n",
    "    if marks > 90:\n",
    "        return \"Grade : 'A' \"\n",
    "    elif marks <=90 and marks > 80:\n",
    "        return \"Grade : 'B'\"\n",
    "    elif marks <= 80 and marks > 70:\n",
    "        return \"Grade : 'C' \"\n",
    "    elif marks <=70 and marks > 60:\n",
    "        return\"Grade : 'D' \"\n",
    "    elif marks <=60 and marks > 50:\n",
    "        return \"Grade : 'E' \"\n",
    "    else :\n",
    "        return \"Grade : 'F' \"\n",
    "    \n",
    "print(grade(23))\n",
    "print(grade(88))\n",
    "print(grade(99))\n",
    "print(grade(76))\n",
    "print(grade(65))\n",
    "print(grade(52))"
   ]
  },
  {
   "cell_type": "code",
   "execution_count": 9,
   "id": "3b97111c-7a60-42d1-b9cc-56a3ff28e050",
   "metadata": {},
   "outputs": [
    {
     "name": "stdout",
     "output_type": "stream",
     "text": [
      "True\n",
      "False\n",
      "False\n",
      "False\n",
      "True\n"
     ]
    }
   ],
   "source": [
    "\"\"\"\n",
    "5. Create a program that checks if a year is a leap year or not.\n",
    "\"\"\"\n",
    "\n",
    "def is_leap_year(y):\n",
    "    if y % 4 == 0:\n",
    "        if y % 100 == 0:\n",
    "            if y%400==0:\n",
    "                \n",
    "                return True\n",
    "            else:\n",
    "               \n",
    "                return False\n",
    "        else:\n",
    "           \n",
    "            return True\n",
    "    else:\n",
    "        \n",
    "        return False\n",
    "\n",
    "print(is_leap_year(2016))\n",
    "print(is_leap_year(2017))\n",
    "print(is_leap_year(2018))\n",
    "print(is_leap_year(2019))\n",
    "print(is_leap_year(2020))"
   ]
  },
  {
   "cell_type": "code",
   "execution_count": 10,
   "id": "84a184aa-582e-4aa3-a2ef-8d93a8cb201a",
   "metadata": {},
   "outputs": [
    {
     "name": "stdout",
     "output_type": "stream",
     "text": [
      "Isosceles triangle\n",
      "Equilateral triangle\n",
      "Scalene triangle\n",
      "Scalene triangle\n"
     ]
    }
   ],
   "source": [
    "\"\"\"\n",
    "6. Write a program to classify a triangle based on its sides' lengths.\n",
    "\"\"\"\n",
    "\n",
    "# a,b,c are the sides of the triangle\n",
    "def triangle_type(a,b,c): \n",
    "    \n",
    "    if a == b and b == c:\n",
    "        return \"Equilateral triangle\"\n",
    "    elif a != b and b!= c and a!= c:\n",
    "        return \"Scalene triangle\"\n",
    "    else:\n",
    "        return \"Isosceles triangle\"\n",
    "   \n",
    "        \n",
    "print(triangle_type(30,30,120))\n",
    "print(triangle_type(60,60,60))\n",
    "\n",
    "print(triangle_type(60,70,50))\n",
    "\n",
    "print(triangle_type(30,40,50) )  "
   ]
  },
  {
   "cell_type": "code",
   "execution_count": 12,
   "id": "3300ebc2-0ec7-4ea6-9187-25addaeba257",
   "metadata": {},
   "outputs": [
    {
     "name": "stdout",
     "output_type": "stream",
     "text": [
      "5\n",
      "89\n",
      "577\n",
      "387\n"
     ]
    }
   ],
   "source": [
    "\"\"\"\n",
    "7. Build a program that determines the largest of three given numbers.\n",
    "\"\"\"\n",
    "\n",
    "def max_num(a,b,c):\n",
    "    if a>b and a>c:\n",
    "        return a\n",
    "    elif b>a and b>c:\n",
    "        return b\n",
    "    else:\n",
    "        return c\n",
    "    \n",
    "print(max_num(3,4,5))\n",
    "print(max_num(45,89,75))\n",
    "print(max_num(311,424,577))\n",
    "print(max_num(387,41,56))"
   ]
  },
  {
   "cell_type": "code",
   "execution_count": 15,
   "id": "e475b296-2939-4b05-8f3d-144bea8521a2",
   "metadata": {},
   "outputs": [
    {
     "name": "stdout",
     "output_type": "stream",
     "text": [
      "consonant\n",
      "vowel\n",
      "consonant\n",
      "vowel\n",
      "not a alphabet\n"
     ]
    }
   ],
   "source": [
    "\"\"\"\n",
    "8. Develop a program that checks whether a character is a vowel or a consonant.\n",
    "\"\"\"\n",
    "\n",
    "def vowel_or_consonant(c):\n",
    "    v = ['a', 'e', 'i', 'o', 'u', 'A', 'E', 'I', 'O', 'U']\n",
    "    if c.isalpha():\n",
    "        if c in v:\n",
    "            return \"vowel\"\n",
    "        else:\n",
    "            return \"consonant\"\n",
    "        \n",
    "    else:\n",
    "        return \"not a alphabet\"\n",
    "    \n",
    "print(vowel_or_consonant('s'))\n",
    "print(vowel_or_consonant('e'))\n",
    "print(vowel_or_consonant('G'))\n",
    "print(vowel_or_consonant('i'))\n",
    "print(vowel_or_consonant('$'))"
   ]
  },
  {
   "cell_type": "code",
   "execution_count": 2,
   "id": "64547430-cf77-4a95-a2b3-6b2f0f77f809",
   "metadata": {},
   "outputs": [
    {
     "name": "stdout",
     "output_type": "stream",
     "text": [
      "2059.55\n",
      "751.2\n",
      "4185.6\n",
      "2503.46\n",
      "900.0\n",
      "4370.4\n"
     ]
    }
   ],
   "source": [
    "\"\"\"\n",
    "9. Create a program to calculate the total cost of a shopping cart based on discounts.\n",
    "\"\"\"\n",
    "def total_cost(amount):\n",
    "    if 0 <= amount < 1000:\n",
    "        dis_per = 5\n",
    "    if 1000 <= amount <= 2000:\n",
    "        dis_per = 10\n",
    "    elif 2000< amount <= 3000:\n",
    "        dis_per = 15\n",
    "    elif 3000< amount <= 4000:\n",
    "        dis_per = 18\n",
    "    else:\n",
    "        dis_per = 20\n",
    "        \n",
    "    cost = amount - (dis_per/100)*amount;\n",
    "    \n",
    "    return cost\n",
    "\n",
    "print(total_cost(2423))\n",
    "print(total_cost(939))\n",
    "print(total_cost(5232))\n",
    "print(total_cost(3053))\n",
    "print(total_cost(1000))\n",
    "print(total_cost(5463))\n",
    "        \n",
    "    "
   ]
  },
  {
   "cell_type": "code",
   "execution_count": 4,
   "id": "537ffb58-8c47-4a55-8b90-f6e6df12946d",
   "metadata": {},
   "outputs": [
    {
     "name": "stdout",
     "output_type": "stream",
     "text": [
      "Even\n",
      "Odd\n",
      "Even\n"
     ]
    }
   ],
   "source": [
    "\"\"\"\n",
    "10. Write a program that checks if a given number is even or odd.\n",
    "\"\"\"\n",
    "def even_odd(n):\n",
    "    if n%2 == 0:\n",
    "        return \"Even\"\n",
    "    else:\n",
    "        return \"Odd\"\n",
    "    \n",
    "print(even_odd(22))\n",
    "print(even_odd(223))\n"
   ]
  },
  {
   "cell_type": "code",
   "execution_count": 8,
   "id": "627be08d-c160-46b9-8865-e067ef3fa72f",
   "metadata": {},
   "outputs": [
    {
     "name": "stdout",
     "output_type": "stream",
     "text": [
      "(-0.7752551286084111, -3.224744871391589)\n",
      "(-1.0, -1.5)\n",
      "(-1.0, -1.0)\n",
      "(-0.5, -2.0)\n",
      "No roots \n",
      "No roots \n"
     ]
    }
   ],
   "source": [
    "\"\"\"\n",
    "11. Write a program that calculates the roots of a quadratic equation .\n",
    "\"\"\"\n",
    "\n",
    "import math\n",
    "def roots_of_quad(a,b,c):\n",
    "    d = b**2-4*a*c\n",
    "    \n",
    "    if d<0:\n",
    "        return \"No roots \"\n",
    "    else:\n",
    "        x1 = (-b+math.sqrt(d))/(2*a)\n",
    "        x2 = (-b-math.sqrt(d))/(2*a)\n",
    "        return x1,x2\n",
    "        \n",
    "        \n",
    "print(roots_of_quad(2,8,5))\n",
    "print(roots_of_quad(2,5,3))\n",
    "print(roots_of_quad(2,4,2))\n",
    "print(roots_of_quad(2,5,2))\n",
    "print(roots_of_quad(3,9,7))\n",
    "print(roots_of_quad(5,7,4))"
   ]
  },
  {
   "cell_type": "code",
   "execution_count": 11,
   "id": "84b21d56-5c6d-4b5f-bcc0-2e485a58f474",
   "metadata": {},
   "outputs": [
    {
     "name": "stdout",
     "output_type": "stream",
     "text": [
      "Monday\n",
      "Thursday\n",
      "Friday\n",
      "Please enter number between (1-7)\n",
      "Please enter number between (1-7)\n",
      "Tuesday\n"
     ]
    }
   ],
   "source": [
    "\"\"\"\n",
    "12. Create a program that determines the day of the week based on the day number (1-7).\n",
    "\"\"\"\n",
    "\n",
    "#Assuming day 1 to be Monday\n",
    "def day(num):\n",
    "    if num >7 or num <1:\n",
    "        return \"Please enter number between (1-7)\"\n",
    "    if num == 1:\n",
    "        return \"Monday\"\n",
    "    elif num == 2:\n",
    "        return \"Tuesday\"\n",
    "    elif num == 3:\n",
    "        return \"Wednesday\"\n",
    "    elif num == 4:\n",
    "        return \"Thursday\"\n",
    "    elif num == 5:\n",
    "        return \"Friday\"\n",
    "    elif num == 6:\n",
    "        return \"Saturday\"\n",
    "    else:\n",
    "        return \"Sunday\"\n",
    "    \n",
    "    \n",
    "print(day(1))   \n",
    "print(day(4))\n",
    "print(day(5))\n",
    "print(day(9))\n",
    "print(day(0))\n",
    "print(day(2))"
   ]
  },
  {
   "cell_type": "code",
   "execution_count": 12,
   "id": "c99ebe49-9c08-4986-afd4-34eb72705354",
   "metadata": {},
   "outputs": [
    {
     "name": "stdout",
     "output_type": "stream",
     "text": [
      "2\n",
      "24\n",
      "120\n",
      "1\n",
      "Please enter non negative integer\n"
     ]
    }
   ],
   "source": [
    "\"\"\"\n",
    "13. Develop a program that calculates the factorial of a given number using recursion.\n",
    "\"\"\"\n",
    "\n",
    "def factorial(n):\n",
    "    if n <0:\n",
    "        return \"Please enter non negative integer\"\n",
    "    if n ==1 or n== 0 :\n",
    "        return 1\n",
    "    return n* factorial(n-1);\n",
    "\n",
    "print(factorial(2))\n",
    "print(factorial(4))\n",
    "print(factorial(5))\n",
    "print(factorial(0))\n",
    "print(factorial(-4))"
   ]
  },
  {
   "cell_type": "code",
   "execution_count": 15,
   "id": "de659bc8-3279-49ba-852b-9bb8f26cf413",
   "metadata": {},
   "outputs": [
    {
     "name": "stdout",
     "output_type": "stream",
     "text": [
      "35\n",
      "35\n",
      "222\n",
      "34\n",
      "3\n",
      "5\n",
      "4\n"
     ]
    }
   ],
   "source": [
    "\"\"\"\n",
    "14. Write a program to find the largest among three numbers without using the `max()` function.\n",
    "\"\"\"\n",
    "\n",
    "def max_num(a,b,c):\n",
    "    if a>b and a>c:\n",
    "        return a\n",
    "    elif b>a and b>c:\n",
    "        return b\n",
    "    else:\n",
    "        return c\n",
    "    \n",
    "print(max_num(3,4,35))\n",
    "print(max_num(33,35,2))\n",
    "print(max_num(35,34,222))\n",
    "print(max_num(3,22,34))\n",
    "print(max_num(3,3,3))\n",
    "print(max_num(3,3,5))\n",
    "print(max_num(3,4,4))"
   ]
  },
  {
   "cell_type": "code",
   "execution_count": 4,
   "id": "ea04e403-ce1a-4e3b-b90b-a3a70946085e",
   "metadata": {},
   "outputs": [
    {
     "name": "stdout",
     "output_type": "stream",
     "text": [
      "Enter suitable choice \n",
      " 1 : Check Balance\n",
      " 2 : Dopsit money\n",
      " 3 : Withdraw Money\n",
      " 4 : Exit\n"
     ]
    },
    {
     "name": "stdin",
     "output_type": "stream",
     "text": [
      "Enter your choice :  2\n",
      "Enter amount to deposit 568470\n"
     ]
    },
    {
     "name": "stdout",
     "output_type": "stream",
     "text": [
      "Deposited : 568470\n",
      "Total balance : 568470\n",
      "\n",
      "Enter suitable choice \n",
      " 1 : Check Balance\n",
      " 2 : Dopsit money\n",
      " 3 : Withdraw Money\n",
      " 4 : Exit\n"
     ]
    },
    {
     "name": "stdin",
     "output_type": "stream",
     "text": [
      "Enter your choice :  3\n",
      "Enter withdrwal amount 78000\n"
     ]
    },
    {
     "name": "stdout",
     "output_type": "stream",
     "text": [
      "Withdrawn Amount : 78000\n",
      "Total balance : 490470\n",
      "\n",
      "Enter suitable choice \n",
      " 1 : Check Balance\n",
      " 2 : Dopsit money\n",
      " 3 : Withdraw Money\n",
      " 4 : Exit\n"
     ]
    },
    {
     "name": "stdin",
     "output_type": "stream",
     "text": [
      "Enter your choice :  1\n"
     ]
    },
    {
     "name": "stdout",
     "output_type": "stream",
     "text": [
      " Total balance : 490470\n",
      "\n",
      "Enter suitable choice \n",
      " 1 : Check Balance\n",
      " 2 : Dopsit money\n",
      " 3 : Withdraw Money\n",
      " 4 : Exit\n"
     ]
    },
    {
     "name": "stdin",
     "output_type": "stream",
     "text": [
      "Enter your choice :  4\n"
     ]
    },
    {
     "name": "stdout",
     "output_type": "stream",
     "text": [
      "Thank you for using ATM machine\n",
      "\n"
     ]
    }
   ],
   "source": [
    "\n",
    "\"\"\"\n",
    "15. Create a program that simulates a basic ATM transaction menu.\n",
    "\"\"\"\n",
    "\n",
    "def ATM_trans():\n",
    "    amount =0;\n",
    "    flag = True\n",
    "    while(flag):\n",
    "        print(\"Enter suitable choice \")\n",
    "        print(\" 1 : Check Balance\")\n",
    "        print(\" 2 : Dopsit money\")\n",
    "        print(\" 3 : Withdraw Money\")\n",
    "        print(\" 4 : Exit\")\n",
    "\n",
    "        choice = int(input(\"Enter your choice : \"))\n",
    "        if choice == 1:\n",
    "            print(f\" Total balance : {amount}\")\n",
    "            print()\n",
    "        elif choice == 2:\n",
    "            dep = int(input(\"Enter amount to deposit\"))\n",
    "            amount += dep\n",
    "            print(f\"Deposited : {dep}\")\n",
    "            print(f\"Total balance : { amount}\")\n",
    "            print()\n",
    "            \n",
    "        elif choice == 3:\n",
    "            wtd = int(input(\"Enter withdrwal amount\"))\n",
    "            if wtd <= amount:\n",
    "                amount -= wtd\n",
    "                print(f\"Withdrawn Amount : {wtd}\")\n",
    "                print(f\"Total balance : {amount}\")\n",
    "                print()\n",
    "            else:\n",
    "                print( \"Not enough amount\")\n",
    "                print()\n",
    "        elif choice == 4:\n",
    "            flag = False;\n",
    "            print(\"Thank you for using ATM machine\")\n",
    "            print()\n",
    "        else:\n",
    "            print(\"Please enter choice from 1-4\")\n",
    "            print()\n",
    "    \n",
    "\n",
    "\n",
    "ATM_trans()"
   ]
  },
  {
   "cell_type": "code",
   "execution_count": 9,
   "id": "1229c84e-8935-465a-a7aa-1da3458f4732",
   "metadata": {},
   "outputs": [
    {
     "name": "stdout",
     "output_type": "stream",
     "text": [
      "True\n",
      "True\n",
      "False\n",
      "True\n",
      "True\n"
     ]
    }
   ],
   "source": [
    "\"\"\"\n",
    "16. Build a program that checks if a given string is a palindrome or not.\n",
    "\"\"\"\n",
    "\n",
    "def is_palindrome(s):\n",
    "    if s == s[::-1]:\n",
    "        return True\n",
    "    else:\n",
    "        return False\n",
    "    \n",
    "print(is_palindrome(\"abcdcba\"))\n",
    "print(is_palindrome(\"abcddcba\"))\n",
    "print(is_palindrome(\"palindrome\"))\n",
    "print(is_palindrome(\"\"))\n",
    "print(is_palindrome(\"s\"))"
   ]
  },
  {
   "cell_type": "code",
   "execution_count": 11,
   "id": "e59331fd-80d9-4a4a-babc-d271210f2124",
   "metadata": {},
   "outputs": [
    {
     "name": "stdout",
     "output_type": "stream",
     "text": [
      "37.857142857142854\n",
      "46.5\n"
     ]
    }
   ],
   "source": [
    "\"\"\"\n",
    "17. Write a program that calculates the average of a list of numbers, excluding the smallest and largest values.\n",
    "\"\"\"\n",
    "\n",
    "# calculating average after excluding all the occurences of largest and smallest values\n",
    "\n",
    "def avg_mid(l1):\n",
    "    smallest = min(l1)\n",
    "    largest = max(l1)\n",
    "    count = 0\n",
    "    sum_list = 0\n",
    "    for i in l1:\n",
    "        if i != largest and i != smallest:\n",
    "            sum_list+=i\n",
    "            count+=1\n",
    "        \n",
    "    return sum_list/count;\n",
    "\n",
    "l1 = [3,52,52,43,7,54,24,673,33]\n",
    "l2 = [48,5,5,1,87,156,1,89,45,15,78]\n",
    "\n",
    "print(avg_mid(l1))\n",
    "print(avg_mid(l2))\n",
    "    "
   ]
  },
  {
   "cell_type": "code",
   "execution_count": 21,
   "id": "435a6560-d973-4aba-8ed8-8dfa8aaa03e9",
   "metadata": {},
   "outputs": [
    {
     "name": "stdout",
     "output_type": "stream",
     "text": [
      "96.8\n",
      "32.0\n",
      "212.0\n",
      "73.4\n",
      "-40.0\n",
      "-32.8\n"
     ]
    }
   ],
   "source": [
    "\"\"\"\n",
    "18. Develop a program that converts a given temperature from Celsius to Fahrenheit.\n",
    "\"\"\"\n",
    "\n",
    "\n",
    "def cel_to_Fht(temp):\n",
    "    return (9/5)*temp + 32\n",
    "\n",
    "print(cel_to_Fht(36))\n",
    "print(cel_to_Fht(0))\n",
    "print(cel_to_Fht(100))\n",
    "print(cel_to_Fht(23))\n",
    "print(cel_to_Fht(-40))\n",
    "print(cel_to_Fht(-36))"
   ]
  },
  {
   "cell_type": "code",
   "execution_count": 10,
   "id": "622c61fa-81ed-4b61-8ae6-7f9955167e56",
   "metadata": {},
   "outputs": [
    {
     "name": "stdout",
     "output_type": "stream",
     "text": [
      "1 : Addition\n",
      "2 : Subtaction\n",
      "3 : Multiplication\n",
      "4 : Division\n",
      "5 : Exit\n",
      "\n",
      "\n"
     ]
    },
    {
     "name": "stdin",
     "output_type": "stream",
     "text": [
      "Enter your choice 1\n",
      "Enter first number 4\n",
      "Enter second number 6\n"
     ]
    },
    {
     "name": "stdout",
     "output_type": "stream",
     "text": [
      "10\n",
      "\n",
      "\n",
      "1 : Addition\n",
      "2 : Subtaction\n",
      "3 : Multiplication\n",
      "4 : Division\n",
      "5 : Exit\n",
      "\n",
      "\n"
     ]
    },
    {
     "name": "stdin",
     "output_type": "stream",
     "text": [
      "Enter your choice 2\n",
      "Enter first number 6\n",
      "Enter second number 2\n"
     ]
    },
    {
     "name": "stdout",
     "output_type": "stream",
     "text": [
      "4\n",
      "\n",
      "\n",
      "1 : Addition\n",
      "2 : Subtaction\n",
      "3 : Multiplication\n",
      "4 : Division\n",
      "5 : Exit\n",
      "\n",
      "\n"
     ]
    },
    {
     "name": "stdin",
     "output_type": "stream",
     "text": [
      "Enter your choice 3\n",
      "Enter first number 5\n",
      "Enter second number 5\n"
     ]
    },
    {
     "name": "stdout",
     "output_type": "stream",
     "text": [
      "25\n",
      "\n",
      "\n",
      "1 : Addition\n",
      "2 : Subtaction\n",
      "3 : Multiplication\n",
      "4 : Division\n",
      "5 : Exit\n",
      "\n",
      "\n"
     ]
    },
    {
     "name": "stdin",
     "output_type": "stream",
     "text": [
      "Enter your choice 4\n",
      "Enter first number 8\n",
      "Enter second number 6\n"
     ]
    },
    {
     "name": "stdout",
     "output_type": "stream",
     "text": [
      "1.3333333333333333\n",
      "\n",
      "\n",
      "1 : Addition\n",
      "2 : Subtaction\n",
      "3 : Multiplication\n",
      "4 : Division\n",
      "5 : Exit\n",
      "\n",
      "\n"
     ]
    },
    {
     "name": "stdin",
     "output_type": "stream",
     "text": [
      "Enter your choice 8\n"
     ]
    },
    {
     "name": "stdout",
     "output_type": "stream",
     "text": [
      "Enter choice from (1-5)\n",
      "\n",
      "\n",
      "1 : Addition\n",
      "2 : Subtaction\n",
      "3 : Multiplication\n",
      "4 : Division\n",
      "5 : Exit\n",
      "\n",
      "\n"
     ]
    },
    {
     "name": "stdin",
     "output_type": "stream",
     "text": [
      "Enter your choice 5\n"
     ]
    }
   ],
   "source": [
    "\"\"\"\n",
    "19. Create a program that simulates a basic calculator for addition, subtraction, multiplication, and division.\n",
    "\"\"\"\n",
    "\n",
    "def calculator():\n",
    "    flag = False\n",
    "    while( not flag):\n",
    "        print(\"1 : Addition\")\n",
    "        print(\"2 : Subtaction\")\n",
    "        print(\"3 : Multiplication\")\n",
    "        print(\"4 : Division\")\n",
    "        print(\"5 : Exit\")\n",
    "        print(\"\\n\")\n",
    "        choice = int(input(\"Enter your choice\"))\n",
    "        if not 1<= choice <= 5:\n",
    "            print( \"Enter choice from (1-5)\")\n",
    "            print(\"\\n\")\n",
    "            continue\n",
    "        if choice == 5:\n",
    "            flag = True\n",
    "            continue\n",
    "        n1 = int(input(\"Enter first number\"))\n",
    "        n2 = int(input(\"Enter second number\"))\n",
    "        \n",
    "        if choice == 1:\n",
    "            print(n1+n2)\n",
    "            print(\"\\n\")\n",
    "        elif choice == 2:\n",
    "            print(n1-n2)\n",
    "            print(\"\\n\")\n",
    "        elif choice == 3:\n",
    "            print(n1*n2)\n",
    "            print(\"\\n\")\n",
    "        elif choice == 4:\n",
    "            print(n1/n2)\n",
    "            print(\"\\n\")\n",
    "        \n",
    "        \n",
    "        \n",
    "\n",
    "calculator()\n",
    "        \n",
    "        \n",
    "        "
   ]
  },
  {
   "cell_type": "code",
   "execution_count": 4,
   "id": "ebf4d1e0-194e-4a90-89f1-38b0e55cd061",
   "metadata": {},
   "outputs": [
    {
     "name": "stdout",
     "output_type": "stream",
     "text": [
      "Roots of given equation :\n",
      "x1 : (-2.2632237783037916+0j)\n",
      "x2 : (1.1316118891518954-1.9600092864600842j)\n",
      "x3 : (1.1316118891518965+1.9600092864600833j)\n"
     ]
    }
   ],
   "source": [
    "\"\"\"\n",
    "20. Write a program that determines the roots of a cubic equation using the Cardano formula.\n",
    "\"\"\"\n",
    "\n",
    "import cmath\n",
    "\n",
    "def roots_of_cubic_eq(a,b,c,d):\n",
    "    d0 = c**2 - 3*b*a\n",
    "    d1 = 2*(c**3) - 9*b*c*a+27*(a**2)*d\n",
    "    \n",
    "    s = (d1 + cmath.sqrt(d1**2 - 4*d0**3))/2\n",
    "    u = (s)**(1/3)\n",
    "    \n",
    "    if u != 0:\n",
    "        a1 = (d1+ cmath.sqrt(d1**2 - 4* d0**3))**(1/3)\n",
    "        b1 = (d1 - cmath.sqrt(d1**2 - 4*d0**3))**(1/3)\n",
    "        x1 = -(a1+b1)/(3*a)\n",
    "        \n",
    "    else:\n",
    "        x1 = -(d0)**(1/3)/(3*a)\n",
    "    \n",
    "    w = cmath.exp(2j *cmath.pi/3)\n",
    "    x2 = w*x1\n",
    "    x3 = (w**2)*x1\n",
    "    \n",
    "    return x1,x2,x3\n",
    "\n",
    "x1,x2,x3 = roots_of_cubic_eq(1,2,3,4)\n",
    "print(\"Roots of given equation :\")\n",
    "print(f\"x1 : {x1}\")\n",
    "print(f\"x2 : {x2}\")\n",
    "print(f\"x3 : {x3}\")\n",
    "print(\"\\n\")"
   ]
  },
  {
   "cell_type": "code",
   "execution_count": 3,
   "id": "908bd37b-bc25-49cf-a510-3336c7d8bdaa",
   "metadata": {},
   "outputs": [
    {
     "name": "stdout",
     "output_type": "stream",
     "text": [
      "19921.75\n",
      "0.0\n",
      "21500.0\n",
      "159316.69999999998\n",
      "238.3\n",
      "Income must be non negative\n"
     ]
    }
   ],
   "source": [
    "\"\"\"\n",
    "21. Create a program that calculates the income tax based on the user's income and tax brackets.\n",
    "\"\"\"\n",
    "\n",
    "def income_tax(income):\n",
    "    if income < 0:\n",
    "        return \"Income must be non negative\"\n",
    "    brackets = [0, 10000, 30000, 70000, float('inf')]\n",
    "    rates = [0.1, 0.15, 0.25, 0.30]\n",
    "\n",
    "    \n",
    "    tax = 0\n",
    "    for i in range(len(brackets) - 1):\n",
    "        if income <= brackets[i + 1]:\n",
    "            tax += income * rates[i]\n",
    "            break\n",
    "        else:\n",
    "            tax += (brackets[i + 1] - brackets[i]) * rates[i]\n",
    "\n",
    "    return tax\n",
    "\n",
    "print(income_tax(63687))\n",
    "print(income_tax(0))\n",
    "print(income_tax(70000))\n",
    "print(income_tax(484389))\n",
    "print(income_tax(2383))\n",
    "print(income_tax(-5843))"
   ]
  },
  {
   "cell_type": "code",
   "execution_count": 10,
   "id": "b217e835-2661-4447-a14e-77aa64d0499f",
   "metadata": {},
   "outputs": [
    {
     "name": "stdout",
     "output_type": "stream",
     "text": [
      "1 : Rock \n",
      "2 : Paper\n",
      "3 : Scissors\n",
      "\n",
      "\n"
     ]
    },
    {
     "name": "stdin",
     "output_type": "stream",
     "text": [
      "Enter your choice 3\n"
     ]
    },
    {
     "name": "stdout",
     "output_type": "stream",
     "text": [
      "Computer choice = Scissors \n",
      " Your choice = Scissors\n",
      "\n",
      "\n",
      "It is a draw\n",
      "\n",
      "\n",
      "play again ?\n",
      "\n",
      "\n"
     ]
    },
    {
     "name": "stdin",
     "output_type": "stream",
     "text": [
      "Enter 1 for YES and 2 for NO 1\n"
     ]
    },
    {
     "name": "stdout",
     "output_type": "stream",
     "text": [
      "1 : Rock \n",
      "2 : Paper\n",
      "3 : Scissors\n",
      "\n",
      "\n"
     ]
    },
    {
     "name": "stdin",
     "output_type": "stream",
     "text": [
      "Enter your choice 1\n"
     ]
    },
    {
     "name": "stdout",
     "output_type": "stream",
     "text": [
      "Computer choice = Scissors \n",
      " Your choice = Rock\n",
      "\n",
      "\n",
      "You win\n",
      "\n",
      "\n",
      "play again ?\n",
      "\n",
      "\n"
     ]
    },
    {
     "name": "stdin",
     "output_type": "stream",
     "text": [
      "Enter 1 for YES and 2 for NO 3\n"
     ]
    },
    {
     "name": "stdout",
     "output_type": "stream",
     "text": [
      "please enter choice 1 or 2\n"
     ]
    },
    {
     "name": "stdin",
     "output_type": "stream",
     "text": [
      "Enter 1 for YES and 2 for NO 2\n"
     ]
    },
    {
     "name": "stdout",
     "output_type": "stream",
     "text": [
      "Thank you for playing\n"
     ]
    }
   ],
   "source": [
    "\"\"\"\n",
    "22. Write a program that simulates a rock-paper-scissors game against the computer.\n",
    "\"\"\"\n",
    "import random\n",
    "\n",
    "def next_game(c):\n",
    "    return c == 1\n",
    "\n",
    "def rock_paper_scissors():\n",
    "    c = [\"Rock\",\"Paper\",\"Scissors\"]\n",
    "    while True:\n",
    "        #Choices\n",
    "        print(\"1 : Rock \")\n",
    "        print(\"2 : Paper\")\n",
    "        print(\"3 : Scissors\")\n",
    "        print(\"\\n\")\n",
    "        \n",
    "        #User and computer choices\n",
    "        user_choice = int(input(\"Enter your choice\"))\n",
    "        if user_choice > 3 or user_choice < 1:\n",
    "            print(\"please enter choices between(1-3)\")\n",
    "            continue;\n",
    "        comp_choice = random.randint(1,100)%3\n",
    "        \n",
    "        print(f\"Computer choice = {c[comp_choice]} \")\n",
    "        print(f\" Your choice = {c[user_choice-1]}\")\n",
    "        print(\"\\n\")\n",
    "        \n",
    "        \n",
    "        #Winner Checking\n",
    "        if (comp_choice + 1) == user_choice:\n",
    "            print(\"It is a draw\")\n",
    "            print(\"\\n\")\n",
    "        elif((user_choice == 1 and comp_choice == 2) or (user_choice == 2 and comp_choice == 0) or (user_choice == 3 and comp_choice == 1)):\n",
    "            print(\"You win\")\n",
    "            print(\"\\n\")\n",
    "        else:\n",
    "            print(\"You lose\")\n",
    "            print(\"\\n\")\n",
    "            \n",
    "        # Continue or not\n",
    "        print(\"play again ?\")\n",
    "        print(\"\\n\")\n",
    "        \n",
    "        while(True):\n",
    "            play = int(input(\"Enter 1 for YES and 2 for NO\"))\n",
    "            if play <1 or play > 2:\n",
    "                print(\"please enter choice 1 or 2\")\n",
    "            else:\n",
    "                break;\n",
    "        if not next_game(play):\n",
    "            print(\"Thank you for playing\")\n",
    "            break;\n",
    "        \n",
    "rock_paper_scissors()\n"
   ]
  },
  {
   "cell_type": "code",
   "execution_count": 10,
   "id": "eba3d056-945e-4fb8-bd69-6c61dc1ce547",
   "metadata": {},
   "outputs": [
    {
     "name": "stdin",
     "output_type": "stream",
     "text": [
      "Enter length of the password 8\n",
      "Do you want to include uppercase in your password ? (yes/no) yes\n",
      "Do you want to include digits in your password ? (yes/no) yes\n",
      "Do you want to include special charaters in your password ? (yes/no) yes\n"
     ]
    },
    {
     "name": "stdout",
     "output_type": "stream",
     "text": [
      "Your password is : \n",
      "#*upsLY.\n",
      "\n",
      "\n"
     ]
    },
    {
     "name": "stdin",
     "output_type": "stream",
     "text": [
      "Enter length of the password 9\n",
      "Do you want to include uppercase in your password ? (yes/no) no\n",
      "Do you want to include digits in your password ? (yes/no) yes\n",
      "Do you want to include special charaters in your password ? (yes/no) yes\n"
     ]
    },
    {
     "name": "stdout",
     "output_type": "stream",
     "text": [
      "Your password is : \n",
      "5n*}p73e*\n"
     ]
    }
   ],
   "source": [
    "\"\"\"\n",
    "23. Develop a program that generates a random password based on user preferences (length, complexity).\n",
    "\"\"\"\n",
    "import string\n",
    "import random\n",
    "def generate_password_util(length,upper,digit,special):\n",
    "    domain = string.ascii_lowercase\n",
    "    if upper:\n",
    "        domain+=string.ascii_uppercase\n",
    "    if digit:\n",
    "        domain+=string.digits\n",
    "    if special:\n",
    "        domain+= string.punctuation\n",
    "    \n",
    "    password = ''.join(random.choice(domain) for i in range(length))\n",
    "    \n",
    "    return password\n",
    "def generate_password():\n",
    "    length = int(input(\"Enter length of the password\"))\n",
    "    upper = input(\"Do you want to include uppercase in your password ? (yes/no)\").lower() == \"yes\"\n",
    "    digits = input(\"Do you want to include digits in your password ? (yes/no)\").lower() == \"yes\"\n",
    "    special = input(\"Do you want to include special charaters in your password ? (yes/no)\").lower() == \"yes\"\n",
    "\n",
    "    print(\"Your password is : \")\n",
    "    print(generate_password_util(length,upper,digits,special))\n",
    "    \n",
    "\n",
    "generate_password()\n",
    "print(\"\\n\")\n",
    "generate_password()"
   ]
  },
  {
   "cell_type": "code",
   "execution_count": 14,
   "id": "b0513e0d-dc33-40d9-b44d-b1be546582ea",
   "metadata": {},
   "outputs": [
    {
     "name": "stdout",
     "output_type": "stream",
     "text": [
      "Welcome to the Text Adventure Game!\n",
      "You find yourself standing in front of a mysterious cave.\n",
      "Do you want to enter the cave? (yes/no)\n"
     ]
    },
    {
     "name": "stdin",
     "output_type": "stream",
     "text": [
      " no\n"
     ]
    },
    {
     "name": "stdout",
     "output_type": "stream",
     "text": [
      "You decide not to enter the cave and instead explore the nearby forest.\n",
      "You come across a mystical pond and a hidden trail.\n",
      "1. Drink from the pond.\n",
      "2. Follow the hidden trail.\n"
     ]
    },
    {
     "name": "stdin",
     "output_type": "stream",
     "text": [
      "Enter your choice (1/2):  1\n"
     ]
    },
    {
     "name": "stdout",
     "output_type": "stream",
     "text": [
      "The water grants you magical powers!\n"
     ]
    }
   ],
   "source": [
    "\"\"\"\n",
    "24. Create a program that implements a simple text-based adventure game with branching scenarios.\n",
    "\"\"\"\n",
    "\n",
    "import time\n",
    "\n",
    "def introduction():\n",
    "    print(\"Welcome to the Text Adventure Game!\")\n",
    "    time.sleep(1)\n",
    "    print(\"You find yourself standing in front of a mysterious cave.\")\n",
    "    time.sleep(1)\n",
    "    print(\"Do you want to enter the cave? (yes/no)\")\n",
    "\n",
    "def cave_scenario():\n",
    "    print(\"You enter the cave and see two paths.\")\n",
    "    time.sleep(1)\n",
    "    print(\"1. Go left deeper into the cave.\")\n",
    "    time.sleep(1)\n",
    "    print(\"2. Go right towards a dim light.\")\n",
    "\n",
    "    choice = input(\"Enter your choice (1/2): \")\n",
    "\n",
    "    if choice == '1':\n",
    "        print(\"You find a treasure chest and gain riches!\")\n",
    "    elif choice == '2':\n",
    "        print(\"You encounter a friendly dragon. It leads you to an exit.\")\n",
    "    else:\n",
    "        print(\"Invalid choice. The cave collapses on you. Game over!\")\n",
    "\n",
    "def forest_scenario():\n",
    "    print(\"You decide not to enter the cave and instead explore the nearby forest.\")\n",
    "    time.sleep(1)\n",
    "    print(\"You come across a mystical pond and a hidden trail.\")\n",
    "    time.sleep(1)\n",
    "    print(\"1. Drink from the pond.\")\n",
    "    time.sleep(1)\n",
    "    print(\"2. Follow the hidden trail.\")\n",
    "\n",
    "    choice = input(\"Enter your choice (1/2): \")\n",
    "\n",
    "    if choice == '1':\n",
    "        print(\"The water grants you magical powers!\")\n",
    "    elif choice == '2':\n",
    "        print(\"You discover an enchanted village with friendly creatures.\")\n",
    "    else:\n",
    "        print(\"Invalid choice. You get lost in the forest. Game over!\")\n",
    "\n",
    "def start():\n",
    "    introduction()\n",
    "\n",
    "    decision = input().lower()\n",
    "\n",
    "    if decision == 'yes':\n",
    "        cave_scenario()\n",
    "    elif decision == 'no':\n",
    "        forest_scenario()\n",
    "    else:\n",
    "        print(\"Invalid choice. The adventure ends.\")\n",
    "\n",
    "\n",
    "start()\n",
    "\n"
   ]
  },
  {
   "cell_type": "code",
   "execution_count": 5,
   "id": "c73c07e4-c586-49c5-b4fc-9ea0bfdc360a",
   "metadata": {},
   "outputs": [
    {
     "name": "stdin",
     "output_type": "stream",
     "text": [
      "Enter the coefficient of x 1\n",
      "Enter constant value 4\n"
     ]
    },
    {
     "name": "stdout",
     "output_type": "stream",
     "text": [
      "-4.0\n",
      "\n",
      "\n"
     ]
    },
    {
     "name": "stdin",
     "output_type": "stream",
     "text": [
      "Enter the coefficient of x 0\n",
      "Enter constant value 2\n"
     ]
    },
    {
     "name": "stdout",
     "output_type": "stream",
     "text": [
      "NO solution\n",
      "\n",
      "\n"
     ]
    },
    {
     "name": "stdin",
     "output_type": "stream",
     "text": [
      "Enter the coefficient of x 0\n",
      "Enter constant value 0\n"
     ]
    },
    {
     "name": "stdout",
     "output_type": "stream",
     "text": [
      "Infinitely many solution\n",
      "\n",
      "\n"
     ]
    }
   ],
   "source": [
    "\"\"\"\n",
    "25. Build a program that solves a linear equation for x, considering different cases.\n",
    "\"\"\"\n",
    "\n",
    "def solve_linear_eq(a,b):\n",
    "    if(a == 0):\n",
    "        if b == 0:\n",
    "            return \"Infinitely many solution\"\n",
    "        else:\n",
    "            return \"NO solution\"\n",
    "    else:\n",
    "        return -b/a;\n",
    "    \n",
    "def solve():\n",
    "    a = int(input(\"Enter the coefficient of x\"))\n",
    "    b = int(input(\"Enter constant value\"))\n",
    "    print(solve_linear_eq(a,b))\n",
    "    print(\"\\n\")\n",
    "    \n",
    "solve()\n",
    "solve()\n",
    "solve()"
   ]
  },
  {
   "cell_type": "code",
   "execution_count": 11,
   "id": "334bcfd7-52e6-43f4-bbfc-1ca8c6888451",
   "metadata": {},
   "outputs": [
    {
     "name": "stdout",
     "output_type": "stream",
     "text": [
      "Question 1\n",
      "What is the capital of Japan?\n",
      "A) Beijing\n",
      "B) Seoul\n",
      "C) Tokyo \n",
      "D) Bangkok\n"
     ]
    },
    {
     "name": "stdin",
     "output_type": "stream",
     "text": [
      "Enter your choice  c\n"
     ]
    },
    {
     "name": "stdout",
     "output_type": "stream",
     "text": [
      "\n",
      "\n",
      "Question 2: In which year did the United States declare its independence?\n",
      "\n",
      "            A) 1776 \n",
      "            B) 1789\n",
      "            C) 1801\n",
      "            D) 1812\n"
     ]
    },
    {
     "name": "stdin",
     "output_type": "stream",
     "text": [
      "Enter your choice  a\n"
     ]
    },
    {
     "name": "stdout",
     "output_type": "stream",
     "text": [
      "\n",
      "\n",
      "Question 3: Which planet is known as the \"Red Planet\"?\n",
      "\n",
      "            A) Venus\n",
      "            B) Mars\n",
      "            C) Jupiter\n",
      "            D) Saturn\n"
     ]
    },
    {
     "name": "stdin",
     "output_type": "stream",
     "text": [
      "Enter your choice  b\n"
     ]
    },
    {
     "name": "stdout",
     "output_type": "stream",
     "text": [
      "\n",
      "\n",
      "\"Question 4: What is the powerhouse of the cell?\n",
      "\n",
      "    A) Nucleus\n",
      "    B) Ribosome\n",
      "    C) Mitochondria \n",
      "    D) Endoplasmic reticulum\n"
     ]
    },
    {
     "name": "stdin",
     "output_type": "stream",
     "text": [
      "Enter your choice  c\n"
     ]
    },
    {
     "name": "stdout",
     "output_type": "stream",
     "text": [
      "\n",
      "\n",
      "Question 5: Who wrote \"Romeo and Juliet\"?\n",
      "\n",
      "    A) Charles Dickens\n",
      "    B) William Shakespeare\n",
      "    C) Jane Austen\n",
      "    D) Mark Twain\n"
     ]
    },
    {
     "name": "stdin",
     "output_type": "stream",
     "text": [
      "Enter your choice  b\n"
     ]
    },
    {
     "name": "stdout",
     "output_type": "stream",
     "text": [
      "\n",
      "\n",
      "Question 6: What is the chemical symbol for water?\n",
      "\n",
      "    A) H2O \n",
      "    B) CO2\n",
      "    C) O2\n",
      "    D) NaCl\n"
     ]
    },
    {
     "name": "stdin",
     "output_type": "stream",
     "text": [
      "Enter your choice  a\n"
     ]
    },
    {
     "name": "stdout",
     "output_type": "stream",
     "text": [
      "\n",
      "\n",
      "Question 7: Which programming language is often used for web development?\n",
      "\n",
      "    A) Java\n",
      "    B) Python\n",
      "    C) JavaScript\n",
      "    D) C++\n"
     ]
    },
    {
     "name": "stdin",
     "output_type": "stream",
     "text": [
      "Enter your choice  c\n"
     ]
    },
    {
     "name": "stdout",
     "output_type": "stream",
     "text": [
      "\n",
      "\n",
      "Question 8: What is the largest ocean on Earth?\n",
      "\n",
      "    A) Atlantic Ocean\n",
      "    B) Indian Ocean\n",
      "    C) Pacific Ocean \n",
      "    D) Arctic Ocean\n"
     ]
    },
    {
     "name": "stdin",
     "output_type": "stream",
     "text": [
      "Enter your choice  c\n"
     ]
    },
    {
     "name": "stdout",
     "output_type": "stream",
     "text": [
      "\n",
      "\n",
      "Question 9: Who developed the theory of relativity?\n",
      "\n",
      "    A) Isaac Newton\n",
      "    B) Albert Einstein\n",
      "    C) Galileo Galilei\n",
      "    D) Stephen Hawking\n"
     ]
    },
    {
     "name": "stdin",
     "output_type": "stream",
     "text": [
      "Enter your choice  b\n"
     ]
    },
    {
     "name": "stdout",
     "output_type": "stream",
     "text": [
      "\n",
      "\n",
      "Question 10: What is the capital of Australia?\n",
      "\n",
      "    A) Sydney\n",
      "    B) Melbourne\n",
      "    C) Canberra \n",
      "    D) Brisbane\n"
     ]
    },
    {
     "name": "stdin",
     "output_type": "stream",
     "text": [
      "Enter your choice  c\n"
     ]
    },
    {
     "name": "stdout",
     "output_type": "stream",
     "text": [
      "\n",
      "\n",
      "Your score was : 10/10\n"
     ]
    }
   ],
   "source": [
    "\"\"\"\n",
    "26. Write a program that simulates a basic quiz game with multiple-choice questions and scoring.\n",
    "\"\"\"\n",
    "def mcq():\n",
    "    score = 0;\n",
    "    print(\"Question 1\")\n",
    "    print(\"What is the capital of Japan?\")\n",
    "    print(\"A) Beijing\")\n",
    "    print(\"B) Seoul\")\n",
    "    print(\"C) Tokyo \")\n",
    "    print(\"D) Bangkok\")\n",
    "    if(input(\"Enter your choice \").upper() == \"C\"):\n",
    "        score+=1\n",
    "        \n",
    "    print(\"\\n\")\n",
    "    print(\"\"\"Question 2: In which year did the United States declare its independence?\n",
    "\n",
    "            A) 1776 \n",
    "            B) 1789\n",
    "            C) 1801\n",
    "            D) 1812\"\"\")\n",
    "    if(input(\"Enter your choice \").upper() == \"A\"):\n",
    "        score+=1\n",
    "        \n",
    "    print(\"\\n\")\n",
    "    print(\"\"\"Question 3: Which planet is known as the \"Red Planet\"?\n",
    "\n",
    "            A) Venus\n",
    "            B) Mars\n",
    "            C) Jupiter\n",
    "            D) Saturn\"\"\")\n",
    "    if(input(\"Enter your choice \").upper() == \"B\"):\n",
    "        score+=1\n",
    "    print(\"\\n\")\n",
    "          \n",
    "    print(\"\"\"\"Question 4: What is the powerhouse of the cell?\n",
    "\n",
    "    A) Nucleus\n",
    "    B) Ribosome\n",
    "    C) Mitochondria \n",
    "    D) Endoplasmic reticulum\"\"\")\n",
    "    if(input(\"Enter your choice \").upper() == \"C\"):\n",
    "        score+=1\n",
    "    print(\"\\n\")\n",
    "    print(\"\"\"Question 5: Who wrote \"Romeo and Juliet\"?\n",
    "\n",
    "    A) Charles Dickens\n",
    "    B) William Shakespeare\n",
    "    C) Jane Austen\n",
    "    D) Mark Twain\"\"\")\n",
    "    if(input(\"Enter your choice \").upper() == \"B\"):\n",
    "        score+=1\n",
    "    print(\"\\n\")     \n",
    "    print(\"\"\"Question 6: What is the chemical symbol for water?\n",
    "\n",
    "    A) H2O \n",
    "    B) CO2\n",
    "    C) O2\n",
    "    D) NaCl\"\"\")\n",
    "    if(input(\"Enter your choice \").upper() == \"A\"):\n",
    "        score+=1\n",
    "    print(\"\\n\") \n",
    "    print(\"\"\"Question 7: Which programming language is often used for web development?\n",
    "\n",
    "    A) Java\n",
    "    B) Python\n",
    "    C) JavaScript\n",
    "    D) C++\"\"\")\n",
    "    if(input(\"Enter your choice \").upper() == \"C\"):\n",
    "        score+=1\n",
    "    print(\"\\n\") \n",
    "          \n",
    "    print(\"\"\"Question 8: What is the largest ocean on Earth?\n",
    "\n",
    "    A) Atlantic Ocean\n",
    "    B) Indian Ocean\n",
    "    C) Pacific Ocean \n",
    "    D) Arctic Ocean\"\"\")\n",
    "    if(input(\"Enter your choice \").upper() == \"C\"):\n",
    "        score+=1\n",
    "    print(\"\\n\") \n",
    "    print(\"\"\"Question 9: Who developed the theory of relativity?\n",
    "\n",
    "    A) Isaac Newton\n",
    "    B) Albert Einstein\n",
    "    C) Galileo Galilei\n",
    "    D) Stephen Hawking\"\"\")\n",
    "    if(input(\"Enter your choice \").upper() == \"B\"):\n",
    "        score+=1\n",
    "    print(\"\\n\") \n",
    "    print(\"\"\"Question 10: What is the capital of Australia?\n",
    "\n",
    "    A) Sydney\n",
    "    B) Melbourne\n",
    "    C) Canberra \n",
    "    D) Brisbane\"\"\")\n",
    "    if(input(\"Enter your choice \").upper() == \"C\"):\n",
    "        score+=1\n",
    "    print(\"\\n\") \n",
    "    print(f\"Your score was : {score}/10\")\n",
    "          \n",
    "mcq()"
   ]
  },
  {
   "cell_type": "code",
   "execution_count": 15,
   "id": "dbbbf1f7-fa0f-466b-8835-0fe498efd5f3",
   "metadata": {},
   "outputs": [
    {
     "name": "stdout",
     "output_type": "stream",
     "text": [
      "False\n",
      "True\n",
      "False\n",
      "False\n",
      "True\n"
     ]
    }
   ],
   "source": [
    "\"\"\"\n",
    "27. Develop a program that determines whether a given year is a prime number or not.\n",
    "\"\"\"\n",
    "\n",
    "def is_prime_year(year):\n",
    "    for i in range(2,year//2+1):\n",
    "        if(year % i) == 0:\n",
    "            return False\n",
    "    else:\n",
    "        return True\n",
    "        \n",
    "print(is_prime_year(2001))\n",
    "print(is_prime_year(1901))\n",
    "print(is_prime_year(1991))\n",
    "print(is_prime_year(1851))\n",
    "print(is_prime_year(1721))"
   ]
  },
  {
   "cell_type": "code",
   "execution_count": 11,
   "id": "3063e600-ed6e-4c5c-8991-3c271342533f",
   "metadata": {},
   "outputs": [
    {
     "name": "stdout",
     "output_type": "stream",
     "text": [
      "[2, 3, 5]\n",
      "[5, 8, 9]\n",
      "[24, 29, 66]\n",
      "[98, 98, 86]\n",
      "[93, 52, 52]\n"
     ]
    }
   ],
   "source": [
    "\"\"\"\n",
    "28. Create a program that sorts three numbers in ascending order using conditional statements.\n",
    "\"\"\"\n",
    "def swap(l,i,j):\n",
    "    temp = l[i]\n",
    "    l[i] = l[j]\n",
    "    l[j]= temp\n",
    "    \n",
    "def sort_num(a,b,c):\n",
    "    ans = [a,b,c]\n",
    "    if a >= b >= c:\n",
    "        ans = [a,b,c]\n",
    "    elif c >= b >= a:\n",
    "        ans = [a,b,c]\n",
    "    elif b >= a >= c:\n",
    "        ans = [b,a,c]\n",
    "    elif c >= a >= b:\n",
    "        ans = [b,a,c]\n",
    "    elif a>= c >= b:\n",
    "        ans = [a,c,b]\n",
    "    elif b>= c >= a:\n",
    "        ans = [a,c,b]\n",
    "    \n",
    "    return ans\n",
    "        \n",
    "\n",
    "print(sort_num(3,2,5))\n",
    "print(sort_num(5,9,8))\n",
    "print(sort_num(24,66,29))\n",
    "print(sort_num(98,98,86))\n",
    "print(sort_num(52,93,52))"
   ]
  },
  {
   "cell_type": "code",
   "execution_count": 11,
   "id": "163c058c-c838-4aae-8abb-cc3232bfeef6",
   "metadata": {},
   "outputs": [
    {
     "name": "stdout",
     "output_type": "stream",
     "text": [
      "1.5\n",
      "1.5\n",
      "2.5\n",
      "Enter some other value for l and r\n",
      "None\n"
     ]
    }
   ],
   "source": [
    "\"\"\"\n",
    "29. Build a program that determines the roots of a quartic equation using numerical methods.\n",
    "\"\"\"\n",
    "def fn(a,b,c,x):\n",
    "    return a*x**2 + b*x +c\n",
    "\n",
    "def bisection(a,b,c,l,r):\n",
    "  \n",
    "    if fn(a,b,c,l) * fn(a,b,c,r) <0:\n",
    "        while(abs(l-r) > 0.00001):\n",
    "            mid = (l+r)/2\n",
    "            if fn(a,b,c,mid) < 0 :\n",
    "                l = mid\n",
    "            else:\n",
    "                r = mid\n",
    "            return mid\n",
    "    else:\n",
    "        print(\"Enter some other value for l and r\")\n",
    "\n",
    "print(bisection(1,-2,-5,-1,4))\n",
    "print(bisection(1,0,-3,1,2))\n",
    "print(bisection(1,0,-5,2,3))\n",
    "print(bisection(3,-2,5,-1,-1))\n"
   ]
  },
  {
   "cell_type": "code",
   "execution_count": 16,
   "id": "363bbda6-2033-48a9-98df-d8dab3645d86",
   "metadata": {},
   "outputs": [
    {
     "name": "stdin",
     "output_type": "stream",
     "text": [
      "Enter height in metres 1.70\n",
      "Enter weight in kg 55\n"
     ]
    },
    {
     "name": "stdout",
     "output_type": "stream",
     "text": [
      "You are within the healthy weight range. Keep up the good work!\n"
     ]
    }
   ],
   "source": [
    "\"\"\"\n",
    "30. Write a program that calculates the BMI (Body Mass Index) and provides health recommendations based\n",
    "on the user's input.\n",
    "\"\"\"\n",
    "\n",
    "def bmi(height,weight):\n",
    "    return weight/(height**2)\n",
    "# height is in metres , weight is in kg\n",
    "def health_status(height,weight):\n",
    "    b = bmi(height,weight)\n",
    "    if b <18.5 :\n",
    "        return \"You are underweight. It's recommended to gain some weight.\"\n",
    "    elif 18.5 <= b <= 25:\n",
    "        return \"You are within the healthy weight range. Keep up the good work!\"\n",
    "    elif 25 <= b < 30:\n",
    "        return \"You are overweight. It's recommended to lose some weight.\"\n",
    "    else:\n",
    "        return \"You are obese. It's important to consult with a healthcare professional for personalized advice.\"\n",
    "\n",
    "\n",
    "    \n",
    "def main():\n",
    "    height = float(input(\"Enter height in metres\"))\n",
    "    weight = float(input(\"Enter weight in kg\"))\n",
    "    print(health_status(height,weight))\n",
    "main()"
   ]
  },
  {
   "cell_type": "code",
   "execution_count": 22,
   "id": "12fea9fb-aca8-4723-8bd1-cad37aa6daf5",
   "metadata": {},
   "outputs": [
    {
     "name": "stdin",
     "output_type": "stream",
     "text": [
      "Enter a password Shivam@123\n"
     ]
    },
    {
     "name": "stdout",
     "output_type": "stream",
     "text": [
      "True\n"
     ]
    }
   ],
   "source": [
    "\"\"\"\n",
    "31. Create a program that validates a password based on complexity rules (length, characters, etc.).\n",
    "\"\"\"\n",
    "\n",
    "# \n",
    "\n",
    "import string\n",
    "def validate_password(p):\n",
    "    if len(p) <8:\n",
    "        return False\n",
    "    special = string.punctuation\n",
    "    up = sp = lw = dg = False\n",
    "    for i in p:\n",
    "        if i.isupper():\n",
    "            up = True\n",
    "        if i in special:\n",
    "            sp = True\n",
    "        if i.islower():\n",
    "            lw = True\n",
    "        if i.isdigit():\n",
    "            dg = True\n",
    "    return up and lw and dg and sp \n",
    "\n",
    "psswd = input(\"Enter a password\")\n",
    "print(validate_password(psswd))\n",
    "\n"
   ]
  },
  {
   "cell_type": "code",
   "execution_count": 18,
   "id": "a1f502d8-8e51-4587-a77f-a3cf6da97931",
   "metadata": {},
   "outputs": [
    {
     "name": "stdin",
     "output_type": "stream",
     "text": [
      "Enter number of rows for matrix 1 2\n",
      "Enter number of columns for matrix 1 2\n"
     ]
    },
    {
     "name": "stdout",
     "output_type": "stream",
     "text": [
      "Enter the elements of matrix 1\n"
     ]
    },
    {
     "name": "stdin",
     "output_type": "stream",
     "text": [
      "Enter m1[0][0] 1\n",
      "Enter m1[0][1] 2\n",
      "Enter m1[1][0] 3\n",
      "Enter m1[1][1] 4\n",
      "Enter number of rows for matrix 2 2\n",
      "Enter number of columns for matrix 2 2\n"
     ]
    },
    {
     "name": "stdout",
     "output_type": "stream",
     "text": [
      "Enter the elements of matrix 2\n"
     ]
    },
    {
     "name": "stdin",
     "output_type": "stream",
     "text": [
      "Enter m2[0][0] 4\n",
      "Enter m2[0][1] 1\n",
      "Enter m2[1][0] 5\n",
      "Enter m2[1][1] 8\n",
      "Enter 1 for addition and 2 for subtraction 2\n"
     ]
    },
    {
     "data": {
      "text/plain": [
       "[[-3, 1], [-2, -4]]"
      ]
     },
     "execution_count": 18,
     "metadata": {},
     "output_type": "execute_result"
    }
   ],
   "source": [
    "\"\"\"\n",
    "32. Develop a program that performs matrix addition and subtraction based on user input.\n",
    "\"\"\"\n",
    "\n",
    "def mat_add(m1,m2):\n",
    "    r1 = len(m1)\n",
    "    r2 = len(m2)\n",
    "    c1 = len(m1[0])\n",
    "    c2 = len(m2[0])\n",
    "    \n",
    "    if r1 != r2 or c1 != c2:\n",
    "        return \"Different order matrices cannot be added\"\n",
    "    ans = [[0 for _ in range(c1)] for _ in range(r1)]\n",
    "    for i in range(r1):\n",
    "        for j in range(c1):\n",
    "            ans[i][j] = m1[i][j] + m2[i][j]\n",
    "    return ans\n",
    "\n",
    "def mat_sub(m1,m2):\n",
    "    r1 = len(m1)\n",
    "    r2 = len(m2)\n",
    "    c1 = len(m1[0])\n",
    "    c2 = len(m2[0])\n",
    "    \n",
    "    if r1 != r2 or c1 != c2:\n",
    "        return \"Different order matrices cannot be subtracted\"\n",
    "    ans = [[0 for _ in range(c1)] for _ in range(r1)]\n",
    "    for i in range(r1):\n",
    "        for j in range(c1):\n",
    "            ans[i][j] = m1[i][j] - m2[i][j]\n",
    "    return ans\n",
    "\n",
    "def main():\n",
    "    r1 = int(input(\"Enter number of rows for matrix 1\"))\n",
    "    c1 = int(input(\"Enter number of columns for matrix 1\"))\n",
    "    m1 = []\n",
    "    print(\"Enter the elements of matrix 1\")\n",
    "    for i in range(r1):\n",
    "        row = []\n",
    "        for j in range(c1):\n",
    "            row.append(int(input(f\"Enter m1[{i}][{j}]\")))\n",
    "        m1.append(row)\n",
    "    \n",
    "    r2 = int(input(\"Enter number of rows for matrix 2\"))\n",
    "    c2 = int(input(\"Enter number of columns for matrix 2\"))\n",
    "    m2 = []                  \n",
    "    print(\"Enter the elements of matrix 2\")\n",
    "    for i in range(r1):\n",
    "        row = []\n",
    "        for j in range(c1):\n",
    "            row.append(int(input(f\"Enter m2[{i}][{j}]\")))\n",
    "        m2.append(row)\n",
    "    \n",
    "    \n",
    "    while(True):\n",
    "        choice = int(input(\"Enter 1 for addition and 2 for subtraction\"))\n",
    "        if choice == 1:\n",
    "            return mat_add(m1,m2)\n",
    "        elif choice == 2:\n",
    "            return mat_sub(m1,m2)\n",
    "        else:\n",
    "            print(\"Enter 1 or 2\")\n",
    "    \n",
    "    \n",
    "\n",
    "main()\n",
    "    "
   ]
  },
  {
   "cell_type": "code",
   "execution_count": 9,
   "id": "180544ee-6fd1-4861-bbe7-00a6dd26b0c1",
   "metadata": {},
   "outputs": [
    {
     "name": "stdout",
     "output_type": "stream",
     "text": [
      "13\n",
      "12\n",
      "1\n",
      "15\n",
      "1\n"
     ]
    }
   ],
   "source": [
    "\"\"\"\n",
    "33. Write a program that calculates the greatest common divisor (GCD) of two numbers using the Euclidean\n",
    "algorithm.\n",
    "\"\"\"\n",
    "\n",
    "def gcd(a,b):\n",
    "    if a == 0:\n",
    "        return b\n",
    "    return gcd(b%a,a)\n",
    "\n",
    "print(gcd(13,26))\n",
    "print(gcd(12,36))\n",
    "print(gcd(45,62))\n",
    "print(gcd(30,45))\n",
    "print(gcd(23,45))\n",
    "    "
   ]
  },
  {
   "cell_type": "code",
   "execution_count": 13,
   "id": "205cf1fe-a662-469f-b032-946ff5be3216",
   "metadata": {},
   "outputs": [
    {
     "name": "stdin",
     "output_type": "stream",
     "text": [
      "Enter number of rows for matrix 1 2\n",
      "Enter number of columns for matrix 1 3\n"
     ]
    },
    {
     "name": "stdout",
     "output_type": "stream",
     "text": [
      "Enter the elements of matrix 1\n",
      "\n"
     ]
    },
    {
     "name": "stdin",
     "output_type": "stream",
     "text": [
      "Enter m1[0][0] 1\n",
      "Enter m1[0][1] 2\n",
      "Enter m1[0][2] 3\n",
      "Enter m1[1][0] 4\n",
      "Enter m1[1][1] 5\n",
      "Enter m1[1][2] 6\n"
     ]
    },
    {
     "name": "stdout",
     "output_type": "stream",
     "text": [
      "\n",
      "matrix 1 is \n",
      "1 2 3 \n",
      "4 5 6 \n",
      "\n"
     ]
    },
    {
     "name": "stdin",
     "output_type": "stream",
     "text": [
      "Enter number of rows for matrix 2 3\n",
      "Enter number of columns for matrix 2 2\n"
     ]
    },
    {
     "name": "stdout",
     "output_type": "stream",
     "text": [
      "Enter the elements of matrix 2\n",
      "\n"
     ]
    },
    {
     "name": "stdin",
     "output_type": "stream",
     "text": [
      "Enter m2[0][0] 1\n",
      "Enter m2[0][1] 2\n",
      "Enter m2[1][0] 3\n",
      "Enter m2[1][1] 4\n",
      "Enter m2[2][0] 5\n",
      "Enter m2[2][1] 6\n"
     ]
    },
    {
     "name": "stdout",
     "output_type": "stream",
     "text": [
      "\n",
      "matrix 2 is\n",
      "1 2 \n",
      "3 4 \n",
      "5 6 \n",
      "\n",
      "Matrix after multiplication\n",
      "22 28 \n",
      "49 64 \n"
     ]
    }
   ],
   "source": [
    "\"\"\"\n",
    "34. Build a program that performs matrix multiplication using nested loops and conditional statements.\n",
    "\"\"\"\n",
    "\n",
    "def mat_mul(m1,m2):\n",
    "    r1 = len(m1)\n",
    "    c1 = len(m1[0])\n",
    "    \n",
    "    r2 = len(m2)\n",
    "    c2 = len(m2[0])\n",
    "    \n",
    "    \n",
    "    \n",
    "    ans = [[0 for i in range(r1)] for j in range(c2)] \n",
    "    \n",
    "    for i in range(r1):\n",
    "        for j in range(c2):\n",
    "            for k in range(r2):\n",
    "                ans[i][j] += m1[i][k] * m2[k][j]\n",
    "    \n",
    "    return ans\n",
    "    \n",
    "def display_matrix(m1):\n",
    "    r = len(m1)\n",
    "    c = len(m1[0])\n",
    "    \n",
    "    for i in range(r):\n",
    "        for j in range(c):\n",
    "            print((str)(m1[i][j]),end=\" \")\n",
    "        print()\n",
    "\n",
    "        \n",
    "def main():\n",
    "    r1 = int(input(\"Enter number of rows for matrix 1\"))\n",
    "    c1 = int(input(\"Enter number of columns for matrix 1\"))\n",
    "    m1 = []\n",
    "    print(\"Enter the elements of matrix 1\")\n",
    "    print()\n",
    "    \n",
    "    \n",
    "    for i in range(r1):\n",
    "        row = []\n",
    "        for j in range(c1):\n",
    "            row.append(int(input(f\"Enter m1[{i}][{j}]\")))\n",
    "        m1.append(row)\n",
    "    print()\n",
    "    \n",
    "    \n",
    "    print(\"matrix 1 is \")\n",
    "    display_matrix(m1)\n",
    "    print()\n",
    "    \n",
    "    r2 = int(input(\"Enter number of rows for matrix 2\"))\n",
    "    c2 = int(input(\"Enter number of columns for matrix 2\"))\n",
    "    \n",
    "    if c1 != r2:\n",
    "        print(\"Matrix multiplication not possible\")\n",
    "        return\n",
    "    \n",
    "    \n",
    "    m2 = []                  \n",
    "    print(\"Enter the elements of matrix 2\")\n",
    "    print()\n",
    "    \n",
    "    \n",
    "    for i in range(r2):\n",
    "        row = []\n",
    "        for j in range(c2):\n",
    "            row.append(int(input(f\"Enter m2[{i}][{j}]\")))\n",
    "        m2.append(row)\n",
    "    print()\n",
    "    \n",
    "    \n",
    "    print(\"matrix 2 is\")\n",
    "    display_matrix(m2)\n",
    "    print()\n",
    "    \n",
    "    print(\"Matrix after multiplication\")\n",
    "    display_matrix(mat_mul(m1,m2))\n",
    "    \n",
    "    \n",
    "main()"
   ]
  },
  {
   "cell_type": "code",
   "execution_count": 10,
   "id": "c77cebc5-e021-4cd0-a3df-1502c7bf2776",
   "metadata": {},
   "outputs": [
    {
     "name": "stdout",
     "output_type": "stream",
     "text": [
      "Choose who plays first\n"
     ]
    },
    {
     "name": "stdin",
     "output_type": "stream",
     "text": [
      "Enter 1 for player and 2 for CPU 1\n"
     ]
    },
    {
     "name": "stdout",
     "output_type": "stream",
     "text": [
      "\n",
      "  |   |   \n",
      "- - - - - \n",
      "  |   |   \n",
      "- - - - - \n",
      "  |   |   \n",
      "Your turn\n"
     ]
    },
    {
     "name": "stdin",
     "output_type": "stream",
     "text": [
      "Enter your choice (1-9) 5\n"
     ]
    },
    {
     "name": "stdout",
     "output_type": "stream",
     "text": [
      "\n",
      "  |   |   \n",
      "- - - - - \n",
      "  | X |   \n",
      "- - - - - \n",
      "  |   |   \n",
      "CPU's turn\n",
      "\n",
      "  |   |   \n",
      "- - - - - \n",
      "  | X |   \n",
      "- - - - - \n",
      "O |   |   \n",
      "Your turn\n"
     ]
    },
    {
     "name": "stdin",
     "output_type": "stream",
     "text": [
      "Enter your choice (1-9) 9\n"
     ]
    },
    {
     "name": "stdout",
     "output_type": "stream",
     "text": [
      "\n",
      "  |   |   \n",
      "- - - - - \n",
      "  | X |   \n",
      "- - - - - \n",
      "O |   | X \n",
      "CPU's turn\n",
      "\n",
      "  | O |   \n",
      "- - - - - \n",
      "  | X |   \n",
      "- - - - - \n",
      "O |   | X \n",
      "Your turn\n"
     ]
    },
    {
     "name": "stdin",
     "output_type": "stream",
     "text": [
      "Enter your choice (1-9) 1\n"
     ]
    },
    {
     "name": "stdout",
     "output_type": "stream",
     "text": [
      "\n",
      "X | O |   \n",
      "- - - - - \n",
      "  | X |   \n",
      "- - - - - \n",
      "O |   | X \n",
      "You Win\n",
      "You Win\n"
     ]
    }
   ],
   "source": [
    "\"\"\"\n",
    "35. Create a program that simulates a basic text-based tic-tac-toe game against the computer.\n",
    "\"\"\"\n",
    "import random\n",
    "def display_board(board):\n",
    "    l = len(board)\n",
    "    \n",
    "    for i in range(l):\n",
    "        if i %5 == 0:\n",
    "            print()\n",
    "        print(board[i],end=' ')\n",
    "        \n",
    "def game_end(board,moveList):\n",
    "    winner = check_winner(board)\n",
    "    if winner == 'You Win' or winner == 'You lose':\n",
    "        print(winner)\n",
    "        return True\n",
    "    elif len(moveList) == 0:\n",
    "        print(\"Game Draw\")\n",
    "        return True\n",
    "    else :\n",
    "        return False\n",
    "    \n",
    "    \n",
    "def check_winner(board):\n",
    "    win = [[0,2,4],[10,12,14],[20,22,24],[0,10,20],[2,12,22],[4,14,24],[0,12,24],[4,12,20]]\n",
    "    \n",
    "    for i in range(8):\n",
    "        if  board[win[i][0]] != ' ' and board[win[i][0]] == board[win[i][1]] == board[win[i][2]]:\n",
    "            if  board[win[i][0]] == 'X':\n",
    "                return 'You Win'\n",
    "            else :\n",
    "                return 'You lose'\n",
    "    return 'No Winner'     \n",
    "\n",
    "def place_move(board,l,turn):\n",
    "#     turn == true means player's turn\n",
    "    mapping = {1: 0,2:2,3:4,4:10,5:12,6:14,7:20,8:22,9:24}\n",
    "    \n",
    "    if turn:\n",
    "        flag = True\n",
    "        while flag:\n",
    "            print(\"Your turn\")\n",
    "            choice = int(input(\"Enter your choice (1-9)\"))\n",
    "            idx = mapping[choice]\n",
    "            if not idx in l:\n",
    "                print(\"Already filled choose another space\")\n",
    "            else:\n",
    "                \n",
    "                board[idx] = 'X'\n",
    "                l.remove(idx)\n",
    "                flag = False\n",
    "                turn = not turn\n",
    "    else:\n",
    "        print(\"CPU's turn\")\n",
    "        c = random.choice(l)\n",
    "        board[c] = 'O'\n",
    "        l.remove(c)\n",
    "        turn = not turn\n",
    "                  \n",
    "                  \n",
    "                  \n",
    "def main():\n",
    "    board = [' ','|',' ','|',' ',\n",
    "             '-','-','-','-','-',\n",
    "             ' ','|',' ','|',' ',\n",
    "             '-','-','-','-','-',\n",
    "             ' ','|',' ','|',' ']\n",
    "    \n",
    "    move_list = [0,2,4,10,12,14,20,22,24]\n",
    "    \n",
    "                  \n",
    "    print(\"Choose who plays first\")\n",
    "    t = int(input(\"Enter 1 for player and 2 for CPU\"))\n",
    "    display_board(board)\n",
    "    print()\n",
    "    turn = False\n",
    "    if t == 1:\n",
    "        turn = True\n",
    "    while(not game_end(board,move_list)):\n",
    "        \n",
    "        place_move(board,move_list,turn)\n",
    "        \n",
    "        display_board(board)\n",
    "        print()\n",
    "        if not game_end(board,move_list):\n",
    "            \n",
    "            place_move(board,move_list,not turn)\n",
    "            display_board(board)\n",
    "            print()\n",
    "        \n",
    "    return\n",
    "    \n",
    "    \n",
    "main()\n",
    "             "
   ]
  },
  {
   "cell_type": "code",
   "execution_count": 7,
   "id": "46d946b2-0495-4e27-a92e-d9a37372f88c",
   "metadata": {},
   "outputs": [
    {
     "name": "stdout",
     "output_type": "stream",
     "text": [
      "[0, 1, 1, 2, 3, 5, 8]\n",
      "[0]\n",
      "[0, 1, 1]\n",
      "[0, 1, 1, 2]\n",
      "[0, 1, 1, 2, 3, 5, 8, 13]\n",
      "[0, 1, 1, 2, 3, 5, 8, 13, 21]\n"
     ]
    }
   ],
   "source": [
    "\"\"\"\n",
    "36. Write a program that generates Fibonacci numbers up to a specified term using iterative methods.\n",
    "\"\"\"\n",
    "\n",
    "# returns a list of fibonacci numbers less than or equal to specified term\n",
    "def fib(n):\n",
    "    if n == 0 :\n",
    "        return [0]\n",
    "   \n",
    "    a = 0\n",
    "    b = 1\n",
    "    l = [0,1]\n",
    "    if n == 1:\n",
    "        return [0,1,1]\n",
    "    while(b<n):\n",
    "        a,b = b,a+b\n",
    "        if b > n:\n",
    "            return l\n",
    "        l.append(b)\n",
    "    return l\n",
    "\n",
    "print(fib(11))\n",
    "print(fib(0))\n",
    "print(fib(1))\n",
    "print(fib(2))\n",
    "print(fib(20))\n",
    "print(fib(28))"
   ]
  },
  {
   "cell_type": "code",
   "execution_count": 2,
   "id": "b1d8b349-0244-48a6-9bfa-ec68176ffaff",
   "metadata": {},
   "outputs": [
    {
     "name": "stdout",
     "output_type": "stream",
     "text": [
      "34\n",
      "4181\n",
      "7778742049\n",
      "218922995834555169026\n",
      "26863810024485359386146727202142923967616609318986952340123175997617981700247881689338369654483356564191827856161443356312976673642210350324634850410377680367334151172899169723197082763985615764450078474174626\n"
     ]
    }
   ],
   "source": [
    "\"\"\"\n",
    "37. Develop a program that calculates the nth term of the Fibonacci sequence using memoization.\n",
    "\"\"\"\n",
    "cache ={}\n",
    "def get_fib(n):\n",
    "    if n == 1:\n",
    "        return 0\n",
    "    if n == 2:\n",
    "        return 1\n",
    "    if n in cache:\n",
    "        return cache[n]\n",
    "    \n",
    "    num =  get_fib(n-1) + get_fib(n-2)\n",
    "    cache[n] = num\n",
    "    return num\n",
    "\n",
    "print(get_fib(10))\n",
    "print(get_fib(20))\n",
    "print(get_fib(50))\n",
    "print(get_fib(100))\n",
    "print(get_fib(1000))"
   ]
  },
  {
   "cell_type": "code",
   "execution_count": 2,
   "id": "efac71ca-224b-45af-9157-0f3a31912655",
   "metadata": {},
   "outputs": [
    {
     "name": "stdout",
     "output_type": "stream",
     "text": [
      "February 2024\n",
      "Mon  Tue  Wed  Thu  Fri  Sat  Sun\n",
      "                  1    2    3    4\n",
      "   5    6    7    8    9   10   11\n",
      "  12   13   14   15   16   17   18\n",
      "  19   20   21   22   23   24   25\n",
      "  26   27   28   29               \n",
      "                                  \n",
      "None\n",
      "May 2021\n",
      "Mon  Tue  Wed  Thu  Fri  Sat  Sun\n",
      "                            1    2\n",
      "   3    4    5    6    7    8    9\n",
      "  10   11   12   13   14   15   16\n",
      "  17   18   19   20   21   22   23\n",
      "  24   25   26   27   28   29   30\n",
      "  31                              \n",
      "None\n",
      "February 2023\n",
      "Mon  Tue  Wed  Thu  Fri  Sat  Sun\n",
      "             1    2    3    4    5\n",
      "   6    7    8    9   10   11   12\n",
      "  13   14   15   16   17   18   19\n",
      "  20   21   22   23   24   25   26\n",
      "  27   28                         \n",
      "                                  \n",
      "None\n",
      "May 1990\n",
      "Mon  Tue  Wed  Thu  Fri  Sat  Sun\n",
      "        1    2    3    4    5    6\n",
      "   7    8    9   10   11   12   13\n",
      "  14   15   16   17   18   19   20\n",
      "  21   22   23   24   25   26   27\n",
      "  28   29   30   31               \n",
      "                                  \n",
      "None\n"
     ]
    }
   ],
   "source": [
    "\"\"\"\n",
    "38. Create a program that generates a calendar for a given month and year using conditional statements.\n",
    "\"\"\"\n",
    "import calendar\n",
    "def get_calendar(year,month):\n",
    "    \n",
    "    print(calendar.month_name[month], year)\n",
    "    print(\"Mon  Tue  Wed  Thu  Fri  Sat  Sun\")\n",
    "    \n",
    "    first_day, no_of_days = calendar.monthrange(year,month)\n",
    "    \n",
    "    cal = [[' ' for i in range(7)] for j in range(6)]\n",
    "    \n",
    "    day = 1\n",
    "    \n",
    "    for i in range(6):\n",
    "        for j in range(7):\n",
    "            if i == 0 and j < first_day:\n",
    "                continue\n",
    "            if day > no_of_days:\n",
    "                break\n",
    "            cal[i][j] = (str)(day)\n",
    "            day+=1\n",
    "            \n",
    "    for row in cal:\n",
    "        print(' '.join(d.rjust(4) for d in row))\n",
    "\n",
    "print(get_calendar(2024,2))\n",
    "\n",
    "print(get_calendar(2021,5))\n",
    "print(get_calendar(2023,2))\n",
    "print(get_calendar(1990,5))\n"
   ]
  },
  {
   "cell_type": "code",
   "execution_count": 2,
   "id": "aca742c5-af4a-49cb-b75c-a918ffa24842",
   "metadata": {},
   "outputs": [
    {
     "name": "stdout",
     "output_type": "stream",
     "text": [
      "Your cards\n",
      "\n",
      "{\n",
      "\n",
      "King of Spades\n",
      "\n",
      "9 of Clubs\n",
      "\n",
      "\n",
      "}\n",
      "player score  : 19\n",
      "\n",
      "dealers card \n",
      "\n",
      "3 of Diammonds\n",
      "Hidden card\n",
      "\n"
     ]
    },
    {
     "name": "stdin",
     "output_type": "stream",
     "text": [
      "Do you want to hit or stand ?  (h/s)  s\n"
     ]
    },
    {
     "name": "stdout",
     "output_type": "stream",
     "text": [
      "\n",
      "Dealer's cards \n",
      "{\n",
      "\n",
      "3 of Diammonds\n",
      "\n",
      "8 of Hearts\n",
      "\n",
      "\n",
      "}\n",
      "dealer's score : 11\n",
      "\n",
      "dealers turn\n",
      "dealer's cards \n",
      "\n",
      "{\n",
      "\n",
      "3 of Diammonds\n",
      "\n",
      "8 of Hearts\n",
      "\n",
      "6 of Clubs\n",
      "\n",
      "\n",
      "}\n",
      "dealer score : 17\n",
      "\n",
      "You win h1\n"
     ]
    }
   ],
   "source": [
    "\"\"\"\n",
    "39. Build a program that simulates a basic text-based blackjack game against the computer.\n",
    "\"\"\"\n",
    "\n",
    "import random\n",
    "\n",
    "# It initializes the seck of cards and shuffles the deck of cards\n",
    "def initialize():\n",
    "    suits = ['Hearts','Spades','Diammonds','Clubs']\n",
    "    values = ['2','3','4','5','6','7','8','9','Ace','King','Queen','Jack']\n",
    "    deck = [{'value' : val, 'suit': suit} for suit in suits for val in values]\n",
    "    random.shuffle(deck)\n",
    "    return deck\n",
    "\n",
    "# It calculates the numeric value of the card\n",
    "def card_value(card):\n",
    "    if card['value'] in ['King','Queen','Jack']:\n",
    "        return 10\n",
    "    elif card['value'] == 'Ace':\n",
    "        return 11\n",
    "    else:\n",
    "        return int(card['value']);\n",
    "\n",
    "\n",
    "# It calculates the total score of the available cards in the hand\n",
    "def score(hand):\n",
    "    s = sum(card_value(card) for card in hand)\n",
    "    ace = sum(1 for i in hand if i['value'] == 'Ace')\n",
    "\n",
    "  # returning best possible value for Ace\n",
    "    while s >21 and ace:\n",
    "        s-=10\n",
    "        ace-=1\n",
    "    return s\n",
    "\n",
    "\n",
    "# It prints all the cards of the hand\n",
    "def display(hand):\n",
    "    print(\"{\\n\")\n",
    "    for card in hand:\n",
    "        print(f\"{card['value']} of {card['suit']}\\n\")\n",
    "    print(\"\\n}\")\n",
    "\n",
    "\n",
    "def blackjack():\n",
    "\n",
    "  #Suffling\n",
    "    deck = initialize();\n",
    "\n",
    "  # first distribution\n",
    "    player = [deck.pop()]\n",
    "    dealer = [deck.pop()]\n",
    "    player.append(deck.pop());\n",
    "    dealer.append(deck.pop())\n",
    "\n",
    "    print(\"Your cards\\n\")\n",
    "    display(player)\n",
    "    ps = score(player)\n",
    "    print(f\"player score  : {ps}\\n\")\n",
    "    print(\"dealers card \\n\")\n",
    "    print(f\"{dealer[0]['value']} of {dealer[0]['suit']}\")\n",
    "    print(\"Hidden card\\n\")\n",
    "\n",
    "\n",
    "# Checking if player gets a blackjack\n",
    "    if( ps == 21 and score(dealer) == 21) :\n",
    "        print(\"Push! It's a tie\")\n",
    "        return\n",
    "    elif score(player) == 21:\n",
    "        print(\"You Win !\")\n",
    "        return\n",
    "\n",
    "# The player chooses to hit or stand until his score exceeds 21\n",
    "    while True:\n",
    "        action = input(\"Do you want to hit or stand ?  (h/s) \").strip().lower()\n",
    "        if action == 'h':\n",
    "            player.append(deck.pop())\n",
    "            print(\"player's cards\\n\")\n",
    "            display(player)\n",
    "            print(f\"Your score : {score(player)}\\n\")\n",
    "\n",
    "            if score(player) >21:\n",
    "                print(\"Bust ! You Lose\")\n",
    "                return\n",
    "        elif action == 's':\n",
    "            break\n",
    "        else:\n",
    "            print(\"Please enter h or s \\n\")\n",
    "            continue\n",
    "\n",
    "    print(\"\\nDealer's cards \")\n",
    "    display(dealer)\n",
    "    print(f\"dealer's score : {score(dealer)}\\n\")\n",
    "  # After the player , the dealer takes cards until his score is less than 17\n",
    "    while score(dealer) < 17:\n",
    "        print(\"dealers turn\")\n",
    "        dealer.append(deck.pop())\n",
    "        print(\"dealer's cards \\n\")\n",
    "        display(dealer)\n",
    "        print(f\"dealer score : {score(dealer)}\\n\")\n",
    "\n",
    "    dealer_score = score(dealer)\n",
    "    player_score = score(player)\n",
    "\n",
    "  # Checking winner\n",
    "    if(dealer_score > 21 or player_score > dealer_score):\n",
    "        print(\"You win !\")\n",
    "\n",
    "    elif(dealer_score > player_score):\n",
    "        print(\"You Lose !\")\n",
    "\n",
    "    else:\n",
    "        print(\"It's a tie !\")\n",
    "    return\n",
    "\n",
    "def main():\n",
    "    blackjack()\n",
    "\n",
    "main()\n"
   ]
  },
  {
   "cell_type": "code",
   "execution_count": 6,
   "id": "77a8206d-ffed-4b06-a678-e7b07570ca71",
   "metadata": {},
   "outputs": [
    {
     "name": "stdout",
     "output_type": "stream",
     "text": [
      "[2, 3, 3, 11]\n",
      "[2, 13]\n",
      "[2, 2, 25]\n",
      "[2, 3, 7, 13]\n"
     ]
    }
   ],
   "source": [
    "\"\"\"\n",
    "40. Write a program that generates the prime factors of a given number using trial division.\n",
    "\n",
    "\"\"\"\n",
    "\n",
    "def prime_factors(n):\n",
    "    factors =[]\n",
    "    num = n\n",
    "    while num %2 == 0:\n",
    "        factors.append(2)\n",
    "        num//=2\n",
    "        \n",
    "    for i in range(3,int(num**0.5),2):\n",
    "        while num %i == 0:\n",
    "            factors.append(i)\n",
    "            num //=i\n",
    "    \n",
    "    if num >2 :\n",
    "        factors.append(num)\n",
    "    return factors\n",
    "\n",
    "print(prime_factors(198))\n",
    "print(prime_factors(26))\n",
    "print(prime_factors(100))\n",
    "print(prime_factors(546))"
   ]
  },
  {
   "cell_type": "code",
   "execution_count": null,
   "id": "bf0e0c15-cef2-437a-822b-13a9c43dec7a",
   "metadata": {},
   "outputs": [],
   "source": []
  }
 ],
 "metadata": {
  "kernelspec": {
   "display_name": "Python 3 (ipykernel)",
   "language": "python",
   "name": "python3"
  },
  "language_info": {
   "codemirror_mode": {
    "name": "ipython",
    "version": 3
   },
   "file_extension": ".py",
   "mimetype": "text/x-python",
   "name": "python",
   "nbconvert_exporter": "python",
   "pygments_lexer": "ipython3",
   "version": "3.10.8"
  }
 },
 "nbformat": 4,
 "nbformat_minor": 5
}
